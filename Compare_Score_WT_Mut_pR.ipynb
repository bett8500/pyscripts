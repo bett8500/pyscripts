{
 "cells": [
  {
   "cell_type": "code",
   "execution_count": 1,
   "metadata": {},
   "outputs": [],
   "source": [
    "from __future__ import print_function"
   ]
  },
  {
   "cell_type": "code",
   "execution_count": 2,
   "metadata": {},
   "outputs": [
    {
     "name": "stdout",
     "output_type": "stream",
     "text": [
      "Found rosetta database at: /usr/local/lib/python2.7/dist-packages/pyrosetta-2018.12+release.5ecebca-py2.7-linux-x86_64.egg/pyrosetta/database; using it....\n",
      "PyRosetta-4 2017 [Rosetta PyRosetta4.Release.python27.ubuntu 2018.12+release.5ecebca5ecebcadacdf48ede3c1981444601bf1cd47ce0d 2018-03-23T13:02:49] retrieved from: http://www.pyrosetta.org\n",
      "(C) Copyright Rosetta Commons Member Institutions.\n",
      "Created in JHU by Sergey Lyskov and PyRosetta Team.\n",
      "\n",
      "\u001b[0mcore.init: \u001b[0mChecking for fconfig files in pwd and ./rosetta/flags\n",
      "\n",
      "\u001b[0mcore.init: \u001b[0mRosetta version: PyRosetta4.Release.python27.ubuntu r174 2018.12+release.5ecebca 5ecebcadacdf48ede3c1981444601bf1cd47ce0d http://www.pyrosetta.org 2018-03-23T13:02:49\n",
      "\u001b[0mcore.init: \u001b[0mcommand: PyRosetta -ex1 -ex2aro -database /usr/local/lib/python2.7/dist-packages/pyrosetta-2018.12+release.5ecebca-py2.7-linux-x86_64.egg/pyrosetta/database\n",
      "\u001b[0mcore.init: \u001b[0m'RNG device' seed mode, using '/dev/urandom', seed=1315297995 seed_offset=0 real_seed=1315297995\n",
      "\u001b[0mcore.init.random: \u001b[0mRandomGenerator:init: Normal mode, seed=1315297995 RG_type=mt19937\n"
     ]
    },
    {
     "name": "stderr",
     "output_type": "stream",
     "text": [
      "/usr/local/lib/python2.7/dist-packages/ipykernel_launcher.py:1: UserWarning: Import of 'rosetta' as a top-level module is deprecated and may be removed in 2018, import via 'pyrosetta.rosetta'.\n",
      "  \"\"\"Entry point for launching an IPython kernel.\n"
     ]
    }
   ],
   "source": [
    "from rosetta.protocols.scoring import Interface\n",
    "from rosetta import *\n",
    "from pyrosetta import *\n",
    "from pyrosetta.teaching import *\n",
    "init()  \n",
    "import os#; os.chdir('.test.output')"
   ]
  },
  {
   "cell_type": "code",
   "execution_count": 3,
   "metadata": {},
   "outputs": [],
   "source": [
    "from pyrosetta.toolbox import mutate_residue\n",
    "from pyrosetta import PyMOLMover\n",
    "my_ip = os.environ[\"my_ip\"]\n",
    "#my_ip = '127.0.0.1'\n",
    "pymover = PyMOLMover(my_ip, 65000)"
   ]
  },
  {
   "cell_type": "code",
   "execution_count": 4,
   "metadata": {},
   "outputs": [
    {
     "name": "stdout",
     "output_type": "stream",
     "text": [
      "If the file pr_simple.clean.pdb already exists,it will be overwritten.\n",
      "PDB pr_simple.pdb successfully cleaned, non-ATOM lines removed.\n",
      "Clean data written to pr_simple.clean.pdb.\n",
      "\u001b[0mcore.chemical.GlobalResidueTypeSet: \u001b[0mFinished initializing fa_standard residue type set.  Created 604 residue types\n",
      "\u001b[0mcore.chemical.GlobalResidueTypeSet: \u001b[0mTotal time to initialize 0.70819 seconds.\n",
      "\u001b[0mcore.import_pose.import_pose: \u001b[0mFile 'pr_simple.clean.pdb' automatically determined to be of type PDB\n",
      "\u001b[0mcore.io.pose_from_sfr.PoseFromSFRBuilder: \u001b[0m\u001b[1m[ WARNING ]\u001b[0m discarding 1 atoms at position 1 in file pr_simple.clean.pdb. Best match rsd_type:  MET:NtermProteinFull\n",
      "\u001b[0mcore.io.pose_from_sfr.PoseFromSFRBuilder: \u001b[0m\u001b[1m[ WARNING ]\u001b[0m discarding 1 atoms at position 58 in file pr_simple.clean.pdb. Best match rsd_type:  HIS\n",
      "\u001b[0mcore.io.pose_from_sfr.PoseFromSFRBuilder: \u001b[0m\u001b[1m[ WARNING ]\u001b[0m discarding 1 atoms at position 80 in file pr_simple.clean.pdb. Best match rsd_type:  ASP\n",
      "\u001b[0mcore.conformation.Conformation: \u001b[0m\u001b[1m[ WARNING ]\u001b[0m missing heavyatom:  OXT on residue GLY:CtermProteinFull 235\n"
     ]
    }
   ],
   "source": [
    "from pyrosetta.toolbox import cleanATOM\n",
    "id = \"pr_simple\"\n",
    "cleanATOM(id+\".pdb\")\n",
    "pose = pose_from_file(id+\".clean.pdb\")\n",
    "pymover.apply(pose)"
   ]
  },
  {
   "cell_type": "code",
   "execution_count": 7,
   "metadata": {},
   "outputs": [
    {
     "name": "stdout",
     "output_type": "stream",
     "text": [
      "\u001b[0mcore.import_pose.import_pose: \u001b[0mFile 'Y191_R1A_pR.pdb' automatically determined to be of type PDB\n"
     ]
    }
   ],
   "source": [
    "id = \"Y191_R1A_pR.pdb\"\n",
    "mut = pose_from_file(id)\n",
    "pymover.apply(mut)"
   ]
  },
  {
   "cell_type": "code",
   "execution_count": 8,
   "metadata": {},
   "outputs": [
    {
     "name": "stdout",
     "output_type": "stream",
     "text": [
      "\u001b[0mcore.import_pose.import_pose: \u001b[0mFile 'relax_Y191_R1A_pR_0001.pdb' automatically determined to be of type PDB\n"
     ]
    }
   ],
   "source": [
    "id = \"relax_Y191_R1A_pR_0001.pdb\"\n",
    "rel = pose_from_file(id)\n",
    "pymover.apply(rel)"
   ]
  },
  {
   "cell_type": "code",
   "execution_count": 9,
   "metadata": {},
   "outputs": [
    {
     "name": "stdout",
     "output_type": "stream",
     "text": [
      "\u001b[0mcore.import_pose.import_pose: \u001b[0mFile 'mem_relax_Y191_R1A_pR_0001.pdb' automatically determined to be of type PDB\n"
     ]
    }
   ],
   "source": [
    "id = \"mem_relax_Y191_R1A_pR_0001.pdb\"\n",
    "mem = pose_from_file(id)\n",
    "pymover.apply(mem)"
   ]
  },
  {
   "cell_type": "code",
   "execution_count": null,
   "metadata": {
    "scrolled": true
   },
   "outputs": [],
   "source": [
    "#Scoring\n",
    "scorefxn = get_fa_scorefxn()\n",
    "scorefxn2 = ScoreFunction()\n",
    "scorefxn2.set_weight(fa_atr, 1.0)\n",
    "scorefxn2.set_weight(fa_rep, 1.0)\n",
    "scorefxn2.set_weight(fa_sol, 1.0)\n",
    "#scorefxn2.set_weight(hbond_sr_bb, 1.0)\n",
    "#scorefxn2.set_weight(hbond_lr_bb, 1.0)\n",
    "#scorefxn2.set_weight(hbond_bb_sc, 1.0)\n",
    "#scorefxn2.set_weight(hbond_sc, 1.0)\n",
    "# scorefxn2.set_weight(fa_elec, 1.0)\n",
    "# scorefxn2.set_weight(fa_intra_rep, 1.0)\n",
    "# scorefxn2.set_weight(pro_close, 1.0)\n",
    "# scorefxn2.set_weight(dslf_fa13, 1.0)\n",
    "# scorefxn2.set_weight(rama, 1.0)\n",
    "# scorefxn2.set_weight(omega, 1.0)\n",
    "# scorefxn2.set_weight(fa_dun, 1.0)\n",
    "# scorefxn2.set_weight(p_aa_pp, 1.0)\n",
    "# scorefxn2.set_weight(ref, 1.0)\n"
   ]
  },
  {
   "cell_type": "code",
   "execution_count": null,
   "metadata": {},
   "outputs": [],
   "source": [
    "#Wild Type Score\n",
    "scorefxn2.show(pose)"
   ]
  },
  {
   "cell_type": "code",
   "execution_count": null,
   "metadata": {},
   "outputs": [],
   "source": [
    "#Mutant Score\n",
    "scorefxn2.show(mem)"
   ]
  },
  {
   "cell_type": "code",
   "execution_count": null,
   "metadata": {},
   "outputs": [],
   "source": []
  }
 ],
 "metadata": {
  "kernelspec": {
   "display_name": "Python 2",
   "language": "python",
   "name": "python2"
  },
  "language_info": {
   "codemirror_mode": {
    "name": "ipython",
    "version": 2
   },
   "file_extension": ".py",
   "mimetype": "text/x-python",
   "name": "python",
   "nbconvert_exporter": "python",
   "pygments_lexer": "ipython2",
   "version": "2.7.12"
  }
 },
 "nbformat": 4,
 "nbformat_minor": 2
}
