{
 "cells": [
  {
   "cell_type": "code",
   "execution_count": null,
   "metadata": {},
   "outputs": [],
   "source": [
    "## @file: predict_ompLA_ddG.py\n",
    "##\n",
    "## @brief: Predict the ddG of mutation at position 181 of OmpLA\n",
    "## @details: Use the rosetta membrane framework (RosettaMP) to predict the ddG of \n",
    "## mutation from alanine to all canonical residues at poisiton 181 of OmpLA. This\n",
    "## scripts uses the mutate_residue function, adapted from the mutate.py script in the \n",
    "## 2012 PyRosetta workshops written by Evan Baugh. \n",
    "##\n",
    "## Citation: Moon CP, Fleming KG (2011) Side-chain hydrophobicity scale derived from \n",
    "## transmembrane protein folding into lipid bilayers. Proc Natl Acad Sci. Available: \n",
    "## http://www.pnas.org/content/early/2011/05/16/1103979108.\n",
    "##\n",
    "## @author: Rebecca F. Alford (rfalford12@gmail.com)\n",
    "\n",
    "## *** Note - this script is not currently using the pH correction ** ##"
   ]
  },
  {
   "cell_type": "code",
   "execution_count": 9,
   "metadata": {},
   "outputs": [
    {
     "name": "stdout",
     "output_type": "stream",
     "text": [
      "Found rosetta database at: /usr/local/lib/python2.7/dist-packages/pyrosetta-2018.12+release.5ecebca-py2.7-linux-x86_64.egg/pyrosetta/database; using it....\n",
      "PyRosetta-4 2017 [Rosetta PyRosetta4.Release.python27.ubuntu 2018.12+release.5ecebca5ecebcadacdf48ede3c1981444601bf1cd47ce0d 2018-03-23T13:02:49] retrieved from: http://www.pyrosetta.org\n",
      "(C) Copyright Rosetta Commons Member Institutions.\n",
      "Created in JHU by Sergey Lyskov and PyRosetta Team.\n",
      "\n",
      "\u001b[0mcore.init: \u001b[0mChecking for fconfig files in pwd and ./rosetta/flags\n",
      "\n",
      "\u001b[0mcore.init: \u001b[0mRosetta version: PyRosetta4.Release.python27.ubuntu r174 2018.12+release.5ecebca 5ecebcadacdf48ede3c1981444601bf1cd47ce0d http://www.pyrosetta.org 2018-03-23T13:02:49\n",
      "\u001b[0mcore.init: \u001b[0mcommand: PyRosetta -ex1 -ex2aro -database /usr/local/lib/python2.7/dist-packages/pyrosetta-2018.12+release.5ecebca-py2.7-linux-x86_64.egg/pyrosetta/database\n",
      "\u001b[0mcore.init: \u001b[0m'RNG device' seed mode, using '/dev/urandom', seed=-934354917 seed_offset=0 real_seed=-934354917\n",
      "\u001b[0mcore.init.random: \u001b[0mRandomGenerator:init: Normal mode, seed=-934354917 RG_type=mt19937\n"
     ]
    }
   ],
   "source": [
    "from rosetta import *\n",
    "from pyrosetta import *\n",
    "init()"
   ]
  },
  {
   "cell_type": "code",
   "execution_count": 10,
   "metadata": {},
   "outputs": [],
   "source": [
    "# tools\n",
    "import sys, os\n",
    "import commands\n",
    "import random"
   ]
  },
  {
   "cell_type": "code",
   "execution_count": 11,
   "metadata": {},
   "outputs": [
    {
     "ename": "ImportError",
     "evalue": "cannot import name Pose",
     "output_type": "error",
     "traceback": [
      "\u001b[0;31m---------------------------------------------------------------------------\u001b[0m",
      "\u001b[0;31mImportError\u001b[0m                               Traceback (most recent call last)",
      "\u001b[0;32m<ipython-input-11-e6e761e2d27b>\u001b[0m in \u001b[0;36m<module>\u001b[0;34m()\u001b[0m\n\u001b[1;32m      1\u001b[0m \u001b[0;31m#rosetta uncorrected\u001b[0m\u001b[0;34m\u001b[0m\u001b[0;34m\u001b[0m\u001b[0m\n\u001b[1;32m      2\u001b[0m \u001b[0;32mimport\u001b[0m \u001b[0mrosetta\u001b[0m\u001b[0;34m.\u001b[0m\u001b[0mprotocols\u001b[0m\u001b[0;34m.\u001b[0m\u001b[0mmembrane\u001b[0m\u001b[0;34m\u001b[0m\u001b[0m\n\u001b[0;32m----> 3\u001b[0;31m \u001b[0;32mfrom\u001b[0m \u001b[0mrosetta\u001b[0m \u001b[0;32mimport\u001b[0m \u001b[0mPose\u001b[0m\u001b[0;34m\u001b[0m\u001b[0m\n\u001b[0m\u001b[1;32m      4\u001b[0m \u001b[0;32mfrom\u001b[0m \u001b[0mrosetta\u001b[0m \u001b[0;32mimport\u001b[0m \u001b[0mcreate_score_function\u001b[0m\u001b[0;34m\u001b[0m\u001b[0m\n\u001b[1;32m      5\u001b[0m \u001b[0;32mfrom\u001b[0m \u001b[0mrosetta\u001b[0m \u001b[0;32mimport\u001b[0m \u001b[0mTaskFactory\u001b[0m\u001b[0;34m\u001b[0m\u001b[0m\n",
      "\u001b[0;31mImportError\u001b[0m: cannot import name Pose"
     ]
    }
   ],
   "source": [
    "#rosetta uncorrected\n",
    "import rosetta.protocols.membrane\n",
    "from rosetta import Pose\n",
    "from rosetta import create_score_function\n",
    "from rosetta import TaskFactory\n",
    "from rosetta.utility import vector1_bool\n",
    "from rosetta import aa_from_oneletter_code\n",
    "from rosetta import PackRotamersMover\n",
    "from rosetta.core.pose import PDBInfo"
   ]
  },
  {
   "cell_type": "code",
   "execution_count": 12,
   "metadata": {},
   "outputs": [],
   "source": [
    "#rosetta corrected\n",
    "from rosetta.protocols import membrane\n",
    "from rosetta.core.pose import Pose\n",
    "from rosetta.core.scoring import ScoreFunction\n",
    "from rosetta.core.pack.task import TaskFactory\n",
    "from rosetta.utility import vector1_bool\n",
    "from rosetta.core.chemical import aa_from_oneletter_code\n",
    "from rosetta.protocols.simple_moves import PackPwatRotamersMover\n",
    "from rosetta.core.pose import PDBInfo\n",
    "\n"
   ]
  },
  {
   "cell_type": "code",
   "execution_count": 13,
   "metadata": {},
   "outputs": [],
   "source": [
    "###############################################################################\n",
    "## @brief:  Main Function for ddG Prediction\n",
    "## @details: Load in pose, setup membrane energy function, setup the membrane\n",
    "## framework, calculate ddGs \n",
    "def main( argv ):\n",
    "\n",
    "    ## Step 1: Initialize Rosetta, including spanfile for the membrane framework\n",
    "    rosetta.init( extra_options=\"-mp:setup:spanfiles inputs/1qd6_tr_C.span -run:constant_seed\" )\n",
    "\n",
    "    ## Step 2: Load in pose as a membrane pose (using AddMembraneMover)\n",
    "    pose = pose_from_pdb( \"inputs/1qd6_tr_C.pdb\" );\n",
    "    add_memb = rosetta.protocols.membrane.AddMembraneMover()\n",
    "    add_memb.apply( pose )\n",
    "    \n",
    "    ## Step 3: Orient Pose in the membrane based on transmembrane spans \n",
    "    init_mem_pos = rosetta.protocols.membrane.MembranePositionFromTopologyMover()\n",
    "    init_mem_pos.apply( pose )\n",
    "\n",
    "    ## Step 4: Create a membrane energy function\n",
    "    ## @note: Two possible energy functions: (1) standard membrane full atom energy function\n",
    "    ## or (2) energy function accommodating for pH (requires extra flags - see README)\n",
    "    sfxn = create_score_function( \"mpframework_smooth_fa_2012\" );\n",
    "\n",
    "    ## Step 5: Repack neighbors within 8.0 angstroms of the mutant position\n",
    "    repacked_native = mutate_residue( pose, 181, 'A', 8.0, sfxn )\n",
    "\n",
    "    ## Step 6: Compute the ddG of mutation from alanine to each of the 20 canonical\n",
    "    ## amino acids. Then print the ddG file to an output file (ompLA_ddG.out)\n",
    "    AAs = ['A', 'C', 'D', 'E', 'F', 'G', 'H', 'I', 'K', 'L', 'M', 'N', 'P', 'Q', 'R', 'S', 'T', 'V', 'W', 'Y']\n",
    "    with file( 'ompLA_ddG.out', 'a' ) as f: \n",
    "        f.write( \"Res AA ddG\\n\" )\n",
    "        for aa in AAs: \n",
    "            ddG = compute_ddG( repacked_native, sfxn, 181, aa, 8.0 )\n",
    "            f.write( str(181) + \" \" + aa + \" \" + str( round( ddG, 3 ) ) + \"\\n\" )\n",
    "    f.close"
   ]
  },
  {
   "cell_type": "code",
   "execution_count": 14,
   "metadata": {},
   "outputs": [],
   "source": [
    "## @brief Compute the ddG of mutation\n",
    "## @brief Compute ddG of mutation in a protein at specified residue and AA position\n",
    "def compute_ddG( pose, sfxn, resnum, aa, repack_radius ): \n",
    "\n",
    "    # Score Native Pose\n",
    "    native_score = sfxn( pose )\n",
    "\n",
    "    # Perform Mutation at residue <resnum> to amino accid <aa>\n",
    "    mutated_pose = mutate_residue( pose, resnum, aa, repack_radius, sfxn )\n",
    "\n",
    "    # Score Mutated Pose\n",
    "    mutant_score = sfxn( mutated_pose )\n",
    "\n",
    "    # Print resulting ddG\n",
    "    return mutant_score - native_score"
   ]
  },
  {
   "cell_type": "code",
   "execution_count": 15,
   "metadata": {},
   "outputs": [
    {
     "ename": "AttributeError",
     "evalue": "'module' object has no attribute 'init'",
     "output_type": "error",
     "traceback": [
      "\u001b[0;31m---------------------------------------------------------------------------\u001b[0m",
      "\u001b[0;31mAttributeError\u001b[0m                            Traceback (most recent call last)",
      "\u001b[0;32m<ipython-input-15-43e9e88e5a4b>\u001b[0m in \u001b[0;36m<module>\u001b[0;34m()\u001b[0m\n\u001b[1;32m     54\u001b[0m     \u001b[0;32mreturn\u001b[0m \u001b[0mtest_pose\u001b[0m\u001b[0;34m\u001b[0m\u001b[0m\n\u001b[1;32m     55\u001b[0m \u001b[0;34m\u001b[0m\u001b[0m\n\u001b[0;32m---> 56\u001b[0;31m \u001b[0;32mif\u001b[0m \u001b[0m__name__\u001b[0m \u001b[0;34m==\u001b[0m \u001b[0;34m\"__main__\"\u001b[0m \u001b[0;34m:\u001b[0m \u001b[0mmain\u001b[0m\u001b[0;34m(\u001b[0m\u001b[0msys\u001b[0m\u001b[0;34m.\u001b[0m\u001b[0margv\u001b[0m\u001b[0;34m)\u001b[0m\u001b[0;34m\u001b[0m\u001b[0m\n\u001b[0m",
      "\u001b[0;32m<ipython-input-13-f0574ee50c19>\u001b[0m in \u001b[0;36mmain\u001b[0;34m(argv)\u001b[0m\n\u001b[1;32m      6\u001b[0m \u001b[0;34m\u001b[0m\u001b[0m\n\u001b[1;32m      7\u001b[0m     \u001b[0;31m## Step 1: Initialize Rosetta, including spanfile for the membrane framework\u001b[0m\u001b[0;34m\u001b[0m\u001b[0;34m\u001b[0m\u001b[0m\n\u001b[0;32m----> 8\u001b[0;31m     \u001b[0mrosetta\u001b[0m\u001b[0;34m.\u001b[0m\u001b[0minit\u001b[0m\u001b[0;34m(\u001b[0m \u001b[0mextra_options\u001b[0m\u001b[0;34m=\u001b[0m\u001b[0;34m\"-mp:setup:spanfiles inputs/1qd6_tr_C.span -run:constant_seed\"\u001b[0m \u001b[0;34m)\u001b[0m\u001b[0;34m\u001b[0m\u001b[0m\n\u001b[0m\u001b[1;32m      9\u001b[0m \u001b[0;34m\u001b[0m\u001b[0m\n\u001b[1;32m     10\u001b[0m     \u001b[0;31m## Step 2: Load in pose as a membrane pose (using AddMembraneMover)\u001b[0m\u001b[0;34m\u001b[0m\u001b[0;34m\u001b[0m\u001b[0m\n",
      "\u001b[0;31mAttributeError\u001b[0m: 'module' object has no attribute 'init'"
     ]
    }
   ],
   "source": [
    "# @brief Replace the residue at <resid> in <pose> with <new_res> and allows\n",
    "# repacking within a given <pack_radius> \n",
    "def mutate_residue( pose, mutant_position, mutant_aa, pack_radius, sfxn ):\n",
    "\n",
    "    if pose.is_fullatom() == False:\n",
    "        IOError( 'mutate_residue only works with fullatom poses' )\n",
    "\n",
    "    test_pose = Pose()\n",
    "    test_pose.assign( pose )\n",
    "\n",
    "    # Create a packer task (standard)\n",
    "    task = TaskFactory.create_packer_task( test_pose )\n",
    "\n",
    "    # the Vector1 of booleans (a specific object) is needed for specifying the\n",
    "    #    mutation, this demonstrates another more direct method of setting\n",
    "    #    PackerTask options for design\n",
    "    aa_bool = vector1_bool()\n",
    "\n",
    "    # PyRosetta uses several ways of tracking amino acids (ResidueTypes)\n",
    "    # the numbers 1-20 correspond individually to the 20 proteogenic amino acids\n",
    "    # aa_from_oneletter returns the integer representation of an amino acid\n",
    "    #    from its one letter code\n",
    "    # convert mutant_aa to its integer representation\n",
    "    mutant_aa = aa_from_oneletter_code( mutant_aa )\n",
    "\n",
    "    # mutation is performed by using a PackerTask with only the mutant\n",
    "    #    amino acid available during design\n",
    "    # to do this, construct a Vector1 of booleans indicating which amino acid\n",
    "    #    (by its numerical designation, see above) to allow\n",
    "    for i in range( 1 , 21 ):\n",
    "        # in Python, logical expression are evaluated with priority, thus the\n",
    "        #    line below appends to aa_bool the truth (True or False) of the\n",
    "        #    statement i == mutant_aa\n",
    "        aa_bool.append( i == mutant_aa )\n",
    "\n",
    "    # modify the mutating residue's assignment in the PackerTask using the\n",
    "    #    Vector1 of booleans across the proteogenic amino acids\n",
    "    task.nonconst_residue_task( mutant_position\n",
    "        ).restrict_absent_canonical_aas( aa_bool )\n",
    "\n",
    "    # prevent residues from packing by setting the per-residue \"options\" of\n",
    "    #    the PackerTask\n",
    "    center = pose.residue( mutant_position ).nbr_atom_xyz()\n",
    "    for i in range( 1, pose.total_residue() + 1 ): \n",
    "        dist = center.distance_squared( test_pose.residue( i ).nbr_atom_xyz() );  \n",
    "        # only pack the mutating residue and any within the pack_radius\n",
    "        if i != mutant_position and dist > pow( float( pack_radius ), 2 ) :\n",
    "            task.nonconst_residue_task( i ).prevent_repacking()\n",
    "\n",
    "    # apply the mutation and pack nearby residues\n",
    "    packer = PackPwatRotamersMover( sfxn , task )\n",
    "    packer.apply( test_pose )\n",
    "\n",
    "    return test_pose\n",
    "\n",
    "if __name__ == \"__main__\" : main(sys.argv)"
   ]
  },
  {
   "cell_type": "code",
   "execution_count": null,
   "metadata": {},
   "outputs": [],
   "source": []
  }
 ],
 "metadata": {
  "kernelspec": {
   "display_name": "Python 2",
   "language": "python",
   "name": "python2"
  },
  "language_info": {
   "codemirror_mode": {
    "name": "ipython",
    "version": 2
   },
   "file_extension": ".py",
   "mimetype": "text/x-python",
   "name": "python",
   "nbconvert_exporter": "python",
   "pygments_lexer": "ipython2",
   "version": "2.7.12"
  }
 },
 "nbformat": 4,
 "nbformat_minor": 2
}
