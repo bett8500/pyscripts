{
 "cells": [
  {
   "cell_type": "code",
   "execution_count": 2,
   "metadata": {
    "scrolled": true
   },
   "outputs": [
    {
     "name": "stdout",
     "output_type": "stream",
     "text": [
      "Found rosetta database at: /usr/local/lib/python2.7/dist-packages/pyrosetta-2018.12+release.5ecebca-py2.7-linux-x86_64.egg/pyrosetta/database; using it....\n",
      "PyRosetta-4 2017 [Rosetta PyRosetta4.Release.python27.ubuntu 2018.12+release.5ecebca5ecebcadacdf48ede3c1981444601bf1cd47ce0d 2018-03-23T13:02:49] retrieved from: http://www.pyrosetta.org\n",
      "(C) Copyright Rosetta Commons Member Institutions.\n",
      "Created in JHU by Sergey Lyskov and PyRosetta Team.\n",
      "\n",
      "\u001b[0mcore.init: \u001b[0mChecking for fconfig files in pwd and ./rosetta/flags\n",
      "\n",
      "\u001b[0mcore.init: \u001b[0mRosetta version: PyRosetta4.Release.python27.ubuntu r174 2018.12+release.5ecebca 5ecebcadacdf48ede3c1981444601bf1cd47ce0d http://www.pyrosetta.org 2018-03-23T13:02:49\n",
      "\u001b[0mcore.init: \u001b[0mcommand: PyRosetta -ex1 -ex2aro -database /usr/local/lib/python2.7/dist-packages/pyrosetta-2018.12+release.5ecebca-py2.7-linux-x86_64.egg/pyrosetta/database\n",
      "\u001b[0mcore.init: \u001b[0m'RNG device' seed mode, using '/dev/urandom', seed=4623338 seed_offset=0 real_seed=4623338\n",
      "\u001b[0mcore.init.random: \u001b[0mRandomGenerator:init: Normal mode, seed=4623338 RG_type=mt19937\n"
     ]
    },
    {
     "name": "stderr",
     "output_type": "stream",
     "text": [
      "/usr/local/lib/python2.7/dist-packages/ipykernel_launcher.py:1: UserWarning: Import of 'rosetta' as a top-level module is deprecated and may be removed in 2018, import via 'pyrosetta.rosetta'.\n",
      "  \"\"\"Entry point for launching an IPython kernel.\n"
     ]
    }
   ],
   "source": [
    "from rosetta import *\n",
    "from pyrosetta import *\n",
    "init()"
   ]
  },
  {
   "cell_type": "code",
   "execution_count": 3,
   "metadata": {},
   "outputs": [],
   "source": [
    "from rosetta.protocols.minimization_packing import PackRotamersMover"
   ]
  },
  {
   "cell_type": "code",
   "execution_count": null,
   "metadata": {},
   "outputs": [],
   "source": [
    "opts = [\"app\", \"-database ~/rosetta/main/database/\", \"-resfile Q183.pack\",\"-out:prefix Q_\"  ]\n",
    "args = utility.vector1_string()\n",
    "args.extend(opts)\n",
    "init(args)"
   ]
  },
  {
   "cell_type": "code",
   "execution_count": 6,
   "metadata": {},
   "outputs": [
    {
     "data": {
      "text/plain": [
       "u'/home/smbetts/pyscripts'"
      ]
     },
     "execution_count": 6,
     "metadata": {},
     "output_type": "execute_result"
    }
   ],
   "source": [
    "#Initializing PyMOLMover\n",
    "from pyrosetta.toolbox import mutate_residue\n",
    "from pyrosetta import PyMOLMover\n",
    "my_ip = os.environ[\"my_ip\"]\n",
    "#my_ip = '127.0.0.1'\n",
    "pymover = PyMOLMover(my_ip, 65000)"
   ]
  },
  {
   "cell_type": "code",
   "execution_count": 16,
   "metadata": {},
   "outputs": [
    {
     "name": "stdout",
     "output_type": "stream",
     "text": [
      "Found rosetta database at: /usr/local/lib/python2.7/dist-packages/pyrosetta-2018.12+release.5ecebca-py2.7-linux-x86_64.egg/pyrosetta/database; using it....\n",
      "PyRosetta-4 2017 [Rosetta PyRosetta4.Release.python27.ubuntu 2018.12+release.5ecebca5ecebcadacdf48ede3c1981444601bf1cd47ce0d 2018-03-23T13:02:49] retrieved from: http://www.pyrosetta.org\n",
      "(C) Copyright Rosetta Commons Member Institutions.\n",
      "Created in JHU by Sergey Lyskov and PyRosetta Team.\n",
      "\n",
      "\u001b[0mcore.init: \u001b[0mChecking for fconfig files in pwd and ./rosetta/flags\n",
      "\n",
      "\u001b[0mcore.init: \u001b[0mRosetta version: PyRosetta4.Release.python27.ubuntu r174 2018.12+release.5ecebca 5ecebcadacdf48ede3c1981444601bf1cd47ce0d http://www.pyrosetta.org 2018-03-23T13:02:49\n",
      "\u001b[0mcore.init: \u001b[0mcommand: PyRosetta -ex1 -ex2aro -mp:setup:spanfiles pR.span -database /usr/local/lib/python2.7/dist-packages/pyrosetta-2018.12+release.5ecebca-py2.7-linux-x86_64.egg/pyrosetta/database\n",
      "\u001b[0mcore.init: \u001b[0m'RNG device' seed mode, using '/dev/urandom', seed=1891540551 seed_offset=0 real_seed=1891540551\n",
      "\u001b[0mcore.init.random: \u001b[0mRandomGenerator:init: Normal mode, seed=1891540551 RG_type=mt19937\n",
      "\u001b[0mcore.import_pose.import_pose: \u001b[0mFile 'pR.pdb' automatically determined to be of type PDB\n",
      "\u001b[0mcore.io.pose_from_sfr.PoseFromSFRBuilder: \u001b[0m\u001b[1m[ WARNING ]\u001b[0m discarding 1 atoms at position 1 in file pR.pdb. Best match rsd_type:  MET:NtermProteinFull\n",
      "\u001b[0mcore.io.pose_from_sfr.PoseFromSFRBuilder: \u001b[0m\u001b[1m[ WARNING ]\u001b[0m discarding 1 atoms at position 58 in file pR.pdb. Best match rsd_type:  HIS\n",
      "\u001b[0mcore.io.pose_from_sfr.PoseFromSFRBuilder: \u001b[0m\u001b[1m[ WARNING ]\u001b[0m discarding 1 atoms at position 80 in file pR.pdb. Best match rsd_type:  ASP\n",
      "\u001b[0mcore.conformation.Conformation: \u001b[0m\u001b[1m[ WARNING ]\u001b[0m missing heavyatom:  OXT on residue GLY:CtermProteinFull 235\n",
      "\u001b[0mprotocols.membrane.AddMembraneMover: \u001b[0m=====================================================================\n",
      "\u001b[0mprotocols.membrane.AddMembraneMover: \u001b[0m||           WELCOME TO THE WORLD OF MEMBRANE PROTEINS...          ||\n",
      "\u001b[0mprotocols.membrane.AddMembraneMover: \u001b[0m=====================================================================\n",
      "\u001b[0mprotocols.membrane.AddMembraneMover: \u001b[0mNo membrane residue was found\n",
      "\u001b[0mprotocols.membrane.AddMembraneMover: \u001b[0mAdding a new membrane residue to the pose\n",
      "\u001b[0mprotocols.membrane.AddMembraneMover: \u001b[0mAdding a membrane residue representing the position of the membrane after residue 235\n",
      "\u001b[0mprotocols.membrane.AddMembraneMover: \u001b[0m   Edge   \t   Jump     Jump #\n",
      "          \t0236--0001  001\n",
      "0001--0235\n",
      "\u001b[0mcore.conformation.membrane.SpanningTopology: \u001b[0mFilling membrane spanning topology from spanfile pR.span\n",
      "\u001b[0mcore.conformation.membrane.SpanningTopology: \u001b[0mnres: 236\n",
      "\u001b[0mcore.conformation.membrane.SpanningTopology: \u001b[0mnres_topo: 235\n",
      "\u001b[0mcore.conformation.membrane.SpanningTopology: \u001b[0mtotal residues in spanfile: 235\n",
      "\u001b[0mcore.conformation.membrane.SpanningTopology: \u001b[0mPose is in pose numbering scheme.\n",
      "\u001b[0mcore.conformation.membrane.Span: \u001b[0m\u001b[1m[ WARNING ]\u001b[0m LONG SPAN: SPAN IS 31 RESIDUES LONG!!!\n",
      "\u001b[0mcore.conformation.membrane.SpanningTopology: \u001b[0mTotal # of TM spans: 7\n",
      "\u001b[0mcore.conformation.membrane.SpanningTopology: \u001b[0mNumber of residues in spanfile: 235\n",
      "\u001b[0mcore.conformation.membrane.SpanningTopology: \u001b[0mSpan 1: start: 10, end: 35 orientation: 1\n",
      "\u001b[0mcore.conformation.membrane.SpanningTopology: \u001b[0mSpan 2: start: 42, end: 57 orientation: 1\n",
      "\u001b[0mcore.conformation.membrane.SpanningTopology: \u001b[0mSpan 3: start: 81, end: 99 orientation: 1\n",
      "\u001b[0mcore.conformation.membrane.SpanningTopology: \u001b[0mSpan 4: start: 104, end: 120 orientation: 1\n",
      "\u001b[0mcore.conformation.membrane.SpanningTopology: \u001b[0mSpan 5: start: 133, end: 151 orientation: 1\n",
      "\u001b[0mcore.conformation.membrane.SpanningTopology: \u001b[0mSpan 6: start: 163, end: 191 orientation: 1\n",
      "\u001b[0mcore.conformation.membrane.SpanningTopology: \u001b[0mSpan 7: start: 200, end: 230 orientation: 1\n",
      "\u001b[0mprotocols.membrane.AddMembraneMover: \u001b[0mMembraneInfo:\n",
      "\u001b[0mprotocols.membrane.AddMembraneMover: \u001b[0mMembraneInfo: Information about this Membrane Protein\n",
      "\u001b[0mprotocols.membrane.AddMembraneMover: \u001b[0mMembrane Residue Num: 236\n",
      "\u001b[0mprotocols.membrane.AddMembraneMover: \u001b[0mMembrane Fold Tree Jump: 1\n",
      "\u001b[0mprotocols.membrane.AddMembraneMover: \u001b[0mMembrane Thickness: 15\n",
      "\u001b[0mprotocols.membrane.AddMembraneMover: \u001b[0mMembrane core: 15\n",
      "\u001b[0mprotocols.membrane.AddMembraneMover: \u001b[0mMembrane Steepness: 10\n",
      "\u001b[0mprotocols.membrane.AddMembraneMover: \u001b[0mMembrane Spanning Topology\n",
      "\u001b[0mcore.conformation.membrane.SpanningTopology: \u001b[0mTotal # of TM spans: 7\n",
      "\u001b[0mcore.conformation.membrane.SpanningTopology: \u001b[0mNumber of residues in spanfile: 235\n",
      "\u001b[0mcore.conformation.membrane.SpanningTopology: \u001b[0mSpan 1: start: 10, end: 35 orientation: 1\n",
      "\u001b[0mcore.conformation.membrane.SpanningTopology: \u001b[0mSpan 2: start: 42, end: 57 orientation: 1\n",
      "\u001b[0mcore.conformation.membrane.SpanningTopology: \u001b[0mSpan 3: start: 81, end: 99 orientation: 1\n",
      "\u001b[0mcore.conformation.membrane.SpanningTopology: \u001b[0mSpan 4: start: 104, end: 120 orientation: 1\n",
      "\u001b[0mcore.conformation.membrane.SpanningTopology: \u001b[0mSpan 5: start: 133, end: 151 orientation: 1\n",
      "\u001b[0mcore.conformation.membrane.SpanningTopology: \u001b[0mSpan 6: start: 163, end: 191 orientation: 1\n",
      "\u001b[0mcore.conformation.membrane.SpanningTopology: \u001b[0mSpan 7: start: 200, end: 230 orientation: 1\n",
      "\u001b[0mprotocols.membrane.SetMembranePositionMover: \u001b[0mCalling SetMembranePositionMover\n",
      "\u001b[0mprotocols.membrane.SetMembranePositionMover: \u001b[0mStarting foldtree: Is membrane fixed? 1\n",
      "\u001b[0mprotocols.membrane.SetMembranePositionMover: \u001b[0m   Edge   \t   Jump     Jump #\n",
      "          \t0236--0001  001\n",
      "0001--0235\n",
      "\u001b[0mprotocols.membrane.SetMembranePositionMover: \u001b[0mFinal foldtree: Is membrane fixed? 1\n",
      "\u001b[0mprotocols.membrane.SetMembranePositionMover: \u001b[0m   Edge   \t   Jump     Jump #\n",
      "          \t0236--0001  001\n",
      "0001--0235\n",
      "\u001b[0mprotocols.membrane.AddMembraneMover: \u001b[0mFinal foldtree: Is membrane fixed? 1\n",
      "\u001b[0mprotocols.membrane.AddMembraneMover: \u001b[0m   Edge   \t   Jump     Jump #\n",
      "          \t0236--0001  001\n",
      "0001--0235\n",
      "\u001b[0mprotocols.membrane.MembranePositionMoverFromTopologyMover: \u001b[0mReordering foldtree:\n",
      "\u001b[0mprotocols.membrane.MembranePositionMoverFromTopologyMover: \u001b[0mStarting foldtree: Is membrane fixed? 0\n",
      "\u001b[0mprotocols.membrane.MembranePositionMoverFromTopologyMover: \u001b[0m   Edge   \t   Jump     Jump #\n",
      "          \t0001--0236  001\n",
      "0001--0235\n",
      "\u001b[0mprotocols.membrane.MembranePositionMoverFromTopologyMover: \u001b[0mComputing initial membrane position from structure...\n",
      "\u001b[0mprotocols.membrane.geometry.Embedding: \u001b[0mConstructing Embedding object from topology and pose\n",
      "\u001b[0mprotocols.membrane.geometry.Embedding: \u001b[0mComputing membrane embedding from TMspans:\n",
      "\u001b[0mprotocols.membrane.geometry.EmbeddingDef: \u001b[0mComputing membrane embedding from TMspan 10 to 35\n",
      "\u001b[0mprotocols.membrane.geometry.EmbeddingDef: \u001b[0m\u001b[1m[ WARNING ]\u001b[0m If your starting PDB is already translated into the\n",
      "\u001b[0mprotocols.membrane.geometry.EmbeddingDef: \u001b[0m\u001b[1m[ WARNING ]\u001b[0m membrane, then your TMspan does not span the membrane!\n",
      "\u001b[0mprotocols.membrane.geometry.EmbeddingDef: \u001b[0mComputing membrane embedding from TMspan 10 to 35\n",
      "\u001b[0mprotocols.membrane.geometry.EmbeddingDef: \u001b[0m\u001b[1m[ WARNING ]\u001b[0m If your starting PDB is already translated into the\n",
      "\u001b[0mprotocols.membrane.geometry.EmbeddingDef: \u001b[0m\u001b[1m[ WARNING ]\u001b[0m membrane, then your TMspan does not span the membrane!\n",
      "\u001b[0mprotocols.membrane.geometry.EmbeddingDef: \u001b[0mComputing membrane embedding from TMspan 42 to 57\n",
      "\u001b[0mprotocols.membrane.geometry.EmbeddingDef: \u001b[0m\u001b[1m[ WARNING ]\u001b[0m If your starting PDB is already translated into the\n",
      "\u001b[0mprotocols.membrane.geometry.EmbeddingDef: \u001b[0m\u001b[1m[ WARNING ]\u001b[0m membrane, then your TMspan does not span the membrane!\n",
      "\u001b[0mprotocols.membrane.geometry.EmbeddingDef: \u001b[0mComputing membrane embedding from TMspan 81 to 99\n",
      "\u001b[0mprotocols.membrane.geometry.EmbeddingDef: \u001b[0mComputing membrane embedding from TMspan 104 to 120\n",
      "\u001b[0mprotocols.membrane.geometry.EmbeddingDef: \u001b[0mComputing membrane embedding from TMspan 133 to 151\n",
      "\u001b[0mprotocols.membrane.geometry.EmbeddingDef: \u001b[0mComputing membrane embedding from TMspan 163 to 191\n",
      "\u001b[0mprotocols.membrane.geometry.EmbeddingDef: \u001b[0mComputing membrane embedding from TMspan 200 to 230\n"
     ]
    },
    {
     "name": "stdout",
     "output_type": "stream",
     "text": [
      "\u001b[0mprotocols.membrane.geometry.Embedding: \u001b[0mSpan Embedding:\n",
      "\u001b[0mprotocols.membrane.geometry.EmbeddingDef: \u001b[0mEmbedding: center: (0.8035, -16.572, 6.989), normal: (-0.0881597, 0.930434, 0.355698)\n",
      "\u001b[0mprotocols.membrane.geometry.EmbeddingDef: \u001b[0mEmbedding: center: (10.038, -27.908, 7.4245), normal: (-0.0968401, 0.762524, 0.639672)\n",
      "\u001b[0mprotocols.membrane.geometry.EmbeddingDef: \u001b[0mEmbedding: center: (21.3345, -27.1885, 3.601), normal: (-0.0498291, 0.702104, 0.710329)\n",
      "\u001b[0mprotocols.membrane.geometry.EmbeddingDef: \u001b[0mEmbedding: center: (28.56, -18.2085, 6.071), normal: (-0.194047, 0.808476, 0.555618)\n",
      "\u001b[0mprotocols.membrane.geometry.EmbeddingDef: \u001b[0mEmbedding: center: (29.8815, -10.291, -1.6535), normal: (-0.0992387, 0.798347, 0.593965)\n",
      "\u001b[0mprotocols.membrane.geometry.EmbeddingDef: \u001b[0mEmbedding: center: (17.5905, -12.816, -2.8665), normal: (0.0147327, 0.811288, 0.584462)\n",
      "\u001b[0mprotocols.membrane.geometry.EmbeddingDef: \u001b[0mEmbedding: center: (7.4185, -16.014, 0.99), normal: (0.0601958, 0.790085, 0.610034)\n",
      "\u001b[0mprotocols.membrane.geometry.Embedding: \u001b[0mTotal Embedding:\n",
      "\u001b[0mprotocols.membrane.geometry.EmbeddingDef: \u001b[0mEmbedding: center: (16.5181, -18.4283, 2.9365), normal: (-0.0654101, 0.808739, 0.584519)\n",
      "\u001b[0mprotocols.membrane.MembranePositionMoverFromTopologyMover: \u001b[0mFinal foldtree after reset: Is membrane fixed? 1\n",
      "\u001b[0mprotocols.membrane.MembranePositionMoverFromTopologyMover: \u001b[0m   Edge   \t   Jump     Jump #\n",
      "          \t0236--0001  001\n",
      "0001--0235\n",
      "\u001b[0mcore.scoring.etable: \u001b[0mStarting energy table calculation\n",
      "\u001b[0mcore.scoring.etable: \u001b[0msmooth_etable: changing atr/rep split to bottom of energy well\n",
      "\u001b[0mcore.scoring.etable: \u001b[0msmooth_etable: spline smoothing lj etables (maxdis = 6)\n",
      "\u001b[0mcore.scoring.etable: \u001b[0msmooth_etable: spline smoothing solvation etables (max_dis = 6)\n",
      "\u001b[0mcore.scoring.etable: \u001b[0mFinished calculating energy tables.\n",
      "\u001b[0mbasic.io.database: \u001b[0mDatabase file opened: scoring/score_functions/PairEPotential/pdb_pair_stats_fine\n",
      "\u001b[0mcore.scoring.etable: \u001b[0mStarting energy table calculation\n",
      "\u001b[0mcore.scoring.etable: \u001b[0msmooth_etable: changing atr/rep split to bottom of energy well\n",
      "\u001b[0mcore.scoring.etable: \u001b[0msmooth_etable: spline smoothing lj etables (maxdis = 6)\n",
      "\u001b[0mcore.scoring.etable: \u001b[0msmooth_etable: spline smoothing solvation etables (max_dis = 6)\n",
      "\u001b[0mcore.scoring.etable: \u001b[0mFinished calculating energy tables.\n",
      "\u001b[0mcore.scoring.etable: \u001b[0mUsing alternate parameters: LK_DGFREE in MembEtable construction.\n",
      "\u001b[0mcore.scoring.etable: \u001b[0mUsing alternate parameters: MEMB_LK_DGFREE in MembEtable construction.\n",
      "\u001b[0mcore.scoring.etable: \u001b[0mUsing alternate parameters: LK_DGREFCE in MembEtable construction.\n",
      "\u001b[0mcore.scoring.etable: \u001b[0mUsing alternate parameters: MEMB_LK_DGREFCE in MembEtable construction.\n",
      "\u001b[0mcore.scoring.etable: \u001b[0mStarting membrane specific energy table calculation\n",
      "\u001b[0mcore.scoring.etable: \u001b[0msmooth_etable: spline smoothing solvation etables (max_dis = 6)\n",
      "\u001b[0mcore.scoring.etable: \u001b[0mFinished calculating membrane specific energy tables.\n",
      "\u001b[0mbasic.io.database: \u001b[0mDatabase file opened: scoring/score_functions/hbonds/ref2015_params/HBPoly1D.csv\n",
      "\u001b[0mbasic.io.database: \u001b[0mDatabase file opened: scoring/score_functions/hbonds/ref2015_params/HBFadeIntervals.csv\n",
      "\u001b[0mbasic.io.database: \u001b[0mDatabase file opened: scoring/score_functions/hbonds/ref2015_params/HBEval.csv\n",
      "\u001b[0mbasic.io.database: \u001b[0mDatabase file opened: scoring/score_functions/hbonds/ref2015_params/DonStrength.csv\n",
      "\u001b[0mbasic.io.database: \u001b[0mDatabase file opened: scoring/score_functions/hbonds/ref2015_params/AccStrength.csv\n",
      "\u001b[0mbasic.io.database: \u001b[0mDatabase file opened: scoring/score_functions/P_AA_pp/P_AA\n",
      "\u001b[0mbasic.io.database: \u001b[0mDatabase file opened: scoring/score_functions/P_AA_pp/P_AA_n\n",
      "\u001b[0mcore.scoring.P_AA: \u001b[0mshapovalov_lib::shap_p_aa_pp_smooth_level of 1( aka low_smooth ) got activated.\n",
      "\u001b[0mbasic.io.database: \u001b[0mDatabase file opened: scoring/score_functions/P_AA_pp/shapovalov/10deg/kappa131/a20.prop\n",
      "\u001b[0mcore.scoring.ramachandran: \u001b[0mshapovalov_lib::shap_rama_smooth_level of 4( aka highest_smooth ) got activated.\n",
      "\u001b[0mbasic.io.database: \u001b[0mDatabase file opened: scoring/score_functions/rama/shapovalov/kappa25/all.ramaProb\n",
      "\u001b[0mbasic.io.database: \u001b[0mDatabase file opened: scoring/score_functions/omega/omega_ppdep.all.txt\n",
      "\u001b[0mbasic.io.database: \u001b[0mDatabase file opened: scoring/score_functions/omega/omega_ppdep.gly.txt\n",
      "\u001b[0mbasic.io.database: \u001b[0mDatabase file opened: scoring/score_functions/omega/omega_ppdep.pro.txt\n",
      "\u001b[0mbasic.io.database: \u001b[0mDatabase file opened: scoring/score_functions/omega/omega_ppdep.valile.txt\n"
     ]
    }
   ],
   "source": [
    "init(extra_options=\"-mp:setup:spanfiles pR.span\")\n",
    "pose = pose_from_file(\"pR.pdb\")\n",
    "add_memb = rosetta.protocols.membrane.AddMembraneMover()\n",
    "add_memb.apply( pose )\n",
    "init_mem_pos = rosetta.protocols.membrane.MembranePositionFromTopologyMover()\n",
    "init_mem_pos.apply( pose )\n",
    "R1A_pose = pose_from_sequence('Z[R1A]', res_type=\"fa_standard\")\n",
    "R1A = R1A_pose.residue(1)\n",
    "pose.replace_residue(166, R1A, True)\n",
    "S_pose = pose_from_sequence('S', res_type=\"fa_standard\")\n",
    "S = S_pose.residue(1)\n",
    "pose.replace_residue(90, S, True)\n",
    "pose.replace_residue(139, S, True)\n",
    "pose.replace_residue(158, S, True)\n",
    "pack_scorefxn = create_score_function( \"mpframework_no_envsmooth.wts\" )\n",
    "pack = rosetta.protocols.minimization_packing.PackRotamersMover()\n",
    "pymover.apply(pose)"
   ]
  },
  {
   "cell_type": "code",
   "execution_count": 15,
   "metadata": {},
   "outputs": [],
   "source": [
    "type(R1A)\n",
    "pose.replace_residue?"
   ]
  },
  {
   "cell_type": "code",
   "execution_count": null,
   "metadata": {},
   "outputs": [],
   "source": [
    "\n",
    "    for i in range(1, 21):\n",
    "        # in Python, logical expression are evaluated with priority, thus the\n",
    "        #    line below appends to aa_bool the truth (True or False) of the\n",
    "        #    statement i == mutant_aa\n",
    "        aa_bool.append( i == int(mutant_aa) )\n",
    "\n",
    "    # modify the mutating residue's assignment in the PackerTask using the\n",
    "    #    Vector1 of booleans across the proteogenic amino acids\n",
    "    task.nonconst_residue_task(mutant_position\n",
    "        ).restrict_absent_canonical_aas(aa_bool)\n",
    "\n",
    "    # prevent residues from packing by setting the per-residue \"options\" of\n",
    "    #    the PackerTask\n",
    "    center = pose.residue(mutant_position).nbr_atom_xyz()\n",
    "    for i in range(1, pose.total_residue() + 1):\n",
    "        # only pack the mutating residue and any within the pack_radius\n",
    "        if not i == mutant_position or center.distance_squared(\n",
    "                test_pose.residue(i).nbr_atom_xyz()) > pack_radius**2:\n",
    "            task.nonconst_residue_task(i).prevent_repacking()\n",
    "\n",
    "    # apply the mutation and pack nearby residues\n",
    "    packer = protocols.minimization_packing.PackRotamersMover(pack_scorefxn, task)\n",
    "    packer.apply(test_pose)\n",
    "\n",
    "    return test_pose"
   ]
  }
 ],
 "metadata": {
  "kernelspec": {
   "display_name": "Python 2",
   "language": "python",
   "name": "python2"
  },
  "language_info": {
   "codemirror_mode": {
    "name": "ipython",
    "version": 2
   },
   "file_extension": ".py",
   "mimetype": "text/x-python",
   "name": "python",
   "nbconvert_exporter": "python",
   "pygments_lexer": "ipython2",
   "version": "2.7.12"
  }
 },
 "nbformat": 4,
 "nbformat_minor": 2
}
