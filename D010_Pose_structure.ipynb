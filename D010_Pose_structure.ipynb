{
 "cells": [
  {
   "cell_type": "markdown",
   "metadata": {},
   "source": [
    "### A General Explanation\n",
    "\n",
    "pose_structure.py\n",
    "\n",
    "This script displays various structural and statistical contained within the\n",
    "pose object. The Python syntax presented here is useful for quick investigation\n",
    "structural data.\n",
    "\n",
    "Instructions:\n",
    "\n",
    "1) ensure that your PDB file is in the current directory\n",
    "2) run the script:\n",
    "    from commandline                        >python D010_Pose_structure.py\n",
    "\n",
    "    from within python/ipython              [1]: run D010_Pose_structure.py\n",
    "\n",
    "Author: Evan H. Baugh\n",
    "    revised and motivated by Robert Schleif\n",
    "\n",
    "Last updated by Boon Uranukul, 6/9/12\n",
    "\n",
    "References:\n",
    "    A. Leaver-Fay et al., \"ROSETTA3: An object-oriented software suite for the\n",
    "        simulation and design of macromolecules,\" Methods in Enymology 487,\n",
    "        548-574 (2011)."
   ]
  },
  {
   "cell_type": "code",
   "execution_count": null,
   "metadata": {
    "scrolled": true
   },
   "outputs": [],
   "source": [
    "from __future__ import print_function\n",
    "import optparse\n",
    "from pyrosetta.toolbox import pose_from_rcsb\n",
    "from rosetta import *\n",
    "from pyrosetta import *\n",
    "init(extra_options = \"-constant_seed\")\n",
    "import os#; os.chdir('.test.output')"
   ]
  },
  {
   "cell_type": "markdown",
   "metadata": {},
   "source": [
    "### The Basic Protocol, pose_structure"
   ]
  },
  {
   "cell_type": "markdown",
   "metadata": {},
   "source": [
    "This sample script is setup for usage with\n",
    "    commandline arguments,\n",
    "    default running within a python interpreter,\n",
    "    or for import within a python interpreter,\n",
    "        (exposing all methods below)\n",
    "\n",
    "The method pose_structure:\n",
    "1.  obtains the pose's protein sequence\n",
    "2.  obtains the pose's per-residue PDB number and icode\n",
    "3.  obtains the pose's per-residue chain identification\n",
    "4.  identifies the unique chain ids\n",
    "5.  obtains the pose's secondary structure\n",
    "6.  obtains the pose's per-residue backbone torsion angles\n",
    "7.  outputs information on the requested residues"
   ]
  },
  {
   "cell_type": "code",
   "execution_count": null,
   "metadata": {},
   "outputs": [],
   "source": [
    "def pose_structure(pose, display_residues = []):\n",
    "    \"\"\"\n",
    "    Extracts and displays various structureal properties of the input <pose>\n",
    "    and its <display_residues> including:\n",
    "        -PDB numbering\n",
    "        -chain identification\n",
    "        -sequence\n",
    "        -secondary structure\n",
    "    \"\"\"\n",
    "    # store the pose's number of residues, example Python syntax\n",
    "    nres = pose.total_residue()\n",
    "\n",
    "    # 1. obtain the pose's sequence\n",
    "    sequence = pose.sequence()\n",
    "\n",
    "    # 2. obtain a list of PDB numbering and icode as a single string\n",
    "    pdb_info = pose.pdb_info()\n",
    "    PDB_nums = [(str( pdb_info.number(i)) + pdb_info.icode(i)).strip()\n",
    "        for i in range(1, nres + 1)]\n",
    "    # 3. obtains a list of the chains organized by residue\n",
    "    chains = [pdb_info.chain(i) for i in range(1, nres + 1)]\n",
    "    # 4. extracts a list of the unique chain IDs\n",
    "    unique_chains = []\n",
    "    for c in chains:\n",
    "        if c not in unique_chains:\n",
    "            unique_chains.append(c)\n",
    "\n",
    "    # start outputting information to screen\n",
    "    print('\\n' + '='*80)\n",
    "    print('Loaded from' , pdb_info.name())\n",
    "    print(nres , 'residues')\n",
    "    print(len(unique_chains), 'chain(s) ('+ str(unique_chains)[1:-1] + ')')\n",
    "    print('Sequence:\\n' + sequence)\n",
    "    \n",
    "     # this object is contained in PyRosetta v2.0 and above\n",
    "    # 5. obtain the pose's secondary structure as predicted by PyRosetta's\n",
    "    #    built-in DSSP algorithm\n",
    "    DSSP = protocols.moves.DsspMover()\n",
    "    DSSP.apply(pose)    # populates the pose's Pose.secstruct\n",
    "    ss = pose.secstruct()\n",
    "    print( 'Secondary Structure:\\n' + ss )\n",
    "    print( '\\t' + str(100. * ss.count('H') / len(ss))[:4] + '% Helical' )\n",
    "    print( '\\t' + str(100. * ss.count('E') / len(ss))[:4] + '% Sheet' )\n",
    "    print( '\\t' + str(100. * ss.count('L') / len(ss))[:4] + '% Loop' )\n",
    "\n",
    "    # 6. obtain the phi, psi, and omega torsion angles\n",
    "    phis = [pose.phi(i) for i in range(1, nres + 1)]\n",
    "    psis = [pose.psi(i) for i in range(1, nres + 1)]\n",
    "    omegas = [pose.omega(i) for i in range(1, nres + 1)]\n",
    "\n",
    "    # this object is contained in PyRosetta v2.0 and above\n",
    "    # create a PyMOLMover for exporting structures directly to PyMOL\n",
    "    pymover = PyMOLMover()\n",
    "    pymover.apply(pose)    # export the structure to PyMOL (optional)\n",
    "\n",
    "    # 7. output information on the requested residues\n",
    "    # use a simple dictionary to make output nicer\n",
    "    ss_dict = {'L':'Loop', 'H':'Helix', 'E':'Strand'}\n",
    "    for i in display_residues:\n",
    "        print( '='*80 )\n",
    "        print( 'Pose numbered Residue', i )\n",
    "        print( 'PDB numbered Residue', PDB_nums[i-1] )\n",
    "        print( 'Single Letter:', sequence[i-1] )\n",
    "        print( 'Chain:', chains[i-1] )\n",
    "        print( 'Secondary Structure:', ss_dict[ss[i-1]] )\n",
    "        print( 'Phi:', phis[i-1] )\n",
    "        print( 'Psi:', psis[i-1] )\n",
    "        print( 'Omega:', omegas[i-1] )\n",
    "        # extract the chis\n",
    "        chis = [pose.chi(j + 1, i) for j in range(pose.residue(i).nchi() )]\n",
    "        for chi_no in range(len(chis)):\n",
    "            print( 'Chi ' + str(chi_no + 1) + ':', chis[chi_no] )\n",
    "    print( '='*80 )\n",
    "pose = pose_from_rcsb(\"1YY8\")\n",
    "pose_structure(pose)\n"
   ]
  },
  {
   "cell_type": "markdown",
   "metadata": {},
   "source": [
    "### Interpreting Results\n",
    "\n",
    "This sample script is strictly to provide example syntax, it does not perform\n",
    "any significant protocol and merely extracts data from a Pose. Please\n",
    "investigate the accompanying scripts pose_scoring.py, fold_tree.py, movemap.py,\n",
    "and packer_task.py to better understand the Pose object. The sample method and\n",
    "PDB file presented for with this sample script work without error.\n",
    "Since Rosetta is not entirely robust to all PDB files, several problems can\n",
    "occur if the methods are modified or used with new PDB files. The most likely\n",
    "problems could be:\n",
    "    -if the input PDB file cannot be loaded into PyRosetta\n",
    "    -if the residues to specifically investigate do not exist"
   ]
  },
  {
   "cell_type": "markdown",
   "metadata": {},
   "source": [
    "### COMMANDLINE COMPATIBILITY\n",
    "\n",
    "everything below is added to provide commandline usage,\n",
    "  the available options are specified below\n",
    "this method:\n",
    "   1. defines the available options\n",
    "   2. loads in the commandline or default values\n",
    "   3. calls pose_structure with these values\n",
    "\n",
    "parser object for managing input options\n",
    "all defaults are for the example using \"test_in.pdb\" with reduced\n",
    "   cycles/jobs to provide results quickly"
   ]
  },
  {
   "cell_type": "code",
   "execution_count": null,
   "metadata": {
    "scrolled": true
   },
   "outputs": [],
   "source": [
    "parser = optparse.OptionParser()\n",
    "parser.add_option('--pdb_filename', dest = 'pdb_filename',\n",
    "    default = '../test/data/test_in.pdb',    # default example PDB\n",
    "    help = 'the PDB file containing the loop to remodel')\n",
    "parser.add_option('--residues', dest = 'residues',\n",
    "    default = '',    # default to the median residue number\n",
    "    help = 'the (pose numbered) residues to inspect carefully')\n",
    "(options,args) = parser.parse_args()\n",
    "\n",
    "# PDB file option\n",
    "pdb_filename = options.pdb_filename\n",
    "# create a pose from the desired PDB file\n",
    "# create an empty Pose object\n",
    "pose = Pose()\n",
    "# load the data from pdb_file into the pose\n",
    "pose_from_file(pose, pdb_filename)\n",
    "# default to the median residue number\n",
    "residues = options.residues\n",
    "if not options.residues:\n",
    "    residues = [int(pose.total_residue()/2)]\n",
    "elif options.residues == 'all':\n",
    "    # accept the word 'all' in place of a residue list\n",
    "    residues = range(1, pose.total_residue() + 1)\n",
    "else:\n",
    "    # please provide the residues of interest as, delimited\n",
    "    residues = [int(r) for r in options.residues.split(',')]\n",
    "\n",
    "pose_structure(pose, residues)"
   ]
  },
  {
   "cell_type": "code",
   "execution_count": null,
   "metadata": {},
   "outputs": [],
   "source": [
    "%tb"
   ]
  },
  {
   "cell_type": "markdown",
   "metadata": {},
   "source": [
    "## Alternate Scenarios\n",
    "\n",
    "### Obtaining and Editing PDB files\n",
    "\n",
    "PDB files are the keys to structural Bioinformatics and structure prediction.\n",
    "PDB files are most easily obtained from the RCSB website but may contain\n",
    "variability which makes them incompatible with PyRosetta. To obtain a new\n",
    "PDB file:\n",
    "\n",
    "    1) locate your protein of interest at http://www.pdb.prg/\n",
    "    2) download the PDB file, using a browser this includes:\n",
    "        a. clicking \"Download Files\" on the upper right\n",
    "        b. clicking \"PDB File (text)\", the second option\n",
    "    3) Manually edit the file to remove lines which may hinder PyRosetta\n",
    "        (use PyMOL, grep, awk, Python, Biopython, or whatever technique you prefer)\n",
    "\n",
    "Methods for downloading and generically \"cleaning\" PDB files should accompany\n",
    "future PyRosetta releases."
   ]
  },
  {
   "cell_type": "code",
   "execution_count": null,
   "metadata": {},
   "outputs": [],
   "source": []
  }
 ],
 "metadata": {
  "kernelspec": {
   "display_name": "Python 2",
   "language": "python",
   "name": "python2"
  },
  "language_info": {
   "codemirror_mode": {
    "name": "ipython",
    "version": 2
   },
   "file_extension": ".py",
   "mimetype": "text/x-python",
   "name": "python",
   "nbconvert_exporter": "python",
   "pygments_lexer": "ipython2",
   "version": "2.7.12"
  }
 },
 "nbformat": 4,
 "nbformat_minor": 2
}
