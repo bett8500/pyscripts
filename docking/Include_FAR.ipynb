{
 "cells": [
  {
   "cell_type": "code",
   "execution_count": 1,
   "metadata": {},
   "outputs": [],
   "source": [
    "import os\n",
    "my_ip = os.environ[\"my_ip\"]\n",
    "#my_ip = '127.0.0.1'"
   ]
  },
  {
   "cell_type": "code",
   "execution_count": 2,
   "metadata": {},
   "outputs": [
    {
     "name": "stdout",
     "output_type": "stream",
     "text": [
      "Found rosetta database at: /usr/local/lib/python2.7/dist-packages/pyrosetta-2018.12+release.5ecebca-py2.7-linux-x86_64.egg/pyrosetta/database; using it....\n",
      "PyRosetta-4 2017 [Rosetta PyRosetta4.Release.python27.ubuntu 2018.12+release.5ecebca5ecebcadacdf48ede3c1981444601bf1cd47ce0d 2018-03-23T13:02:49] retrieved from: http://www.pyrosetta.org\n",
      "(C) Copyright Rosetta Commons Member Institutions.\n",
      "Created in JHU by Sergey Lyskov and PyRosetta Team.\n",
      "\n",
      "\u001b[0mcore.init: \u001b[0mChecking for fconfig files in pwd and ./rosetta/flags\n",
      "\n",
      "\u001b[0mcore.init: \u001b[0mRosetta version: PyRosetta4.Release.python27.ubuntu r174 2018.12+release.5ecebca 5ecebcadacdf48ede3c1981444601bf1cd47ce0d http://www.pyrosetta.org 2018-03-23T13:02:49\n",
      "\u001b[0mcore.init: \u001b[0mcommand: PyRosetta -ex1 -ex2aro -database /usr/local/lib/python2.7/dist-packages/pyrosetta-2018.12+release.5ecebca-py2.7-linux-x86_64.egg/pyrosetta/database\n",
      "\u001b[0mcore.init: \u001b[0m'RNG device' seed mode, using '/dev/urandom', seed=-1402628503 seed_offset=0 real_seed=-1402628503\n",
      "\u001b[0mcore.init.random: \u001b[0mRandomGenerator:init: Normal mode, seed=-1402628503 RG_type=mt19937\n"
     ]
    }
   ],
   "source": [
    "from pyrosetta import *\n",
    "init()"
   ]
  },
  {
   "cell_type": "code",
   "execution_count": 3,
   "metadata": {},
   "outputs": [],
   "source": [
    "from pyrosetta.toolbox import pose_from_rcsb, load_from_rcsb, cleanATOM"
   ]
  },
  {
   "cell_type": "code",
   "execution_count": 4,
   "metadata": {},
   "outputs": [],
   "source": [
    "from pyrosetta import PyMOLMover\n",
    "pymol = PyMOLMover(my_ip, 65000)"
   ]
  },
  {
   "cell_type": "code",
   "execution_count": 5,
   "metadata": {},
   "outputs": [
    {
     "name": "stderr",
     "output_type": "stream",
     "text": [
      "/usr/local/lib/python2.7/dist-packages/ipykernel_launcher.py:1: UserWarning: Import of 'rosetta' as a top-level module is deprecated and may be removed in 2018, import via 'pyrosetta.rosetta'.\n",
      "  \"\"\"Entry point for launching an IPython kernel.\n"
     ]
    }
   ],
   "source": [
    "from rosetta import utility\n",
    "from pyrosetta.toolbox import cleanATOM"
   ]
  },
  {
   "cell_type": "code",
   "execution_count": 13,
   "metadata": {},
   "outputs": [
    {
     "name": "stdout",
     "output_type": "stream",
     "text": [
      "\u001b[0mcore.conformation.Conformation: \u001b[0m\u001b[1m[ WARNING ]\u001b[0m Attempted to determine the residue type set of an empty pose.\n",
      "\u001b[0mcore.conformation.Conformation: \u001b[0m\u001b[1m[ WARNING ]\u001b[0m Attempted to determine the residue type set of an empty pose.\n",
      "\u001b[0mcore.import_pose.import_pose: \u001b[0mFile 'rotamer_success/pilin_farsat_0047.pdb' automatically determined to be of type PDB\n",
      "\u001b[0mcore.conformation.Conformation: \u001b[0mFound disulfide between residues 90 108\n",
      "\u001b[0mcore.conformation.Conformation: \u001b[0mcurrent variant for 90 CYS\n",
      "\u001b[0mcore.conformation.Conformation: \u001b[0mcurrent variant for 108 CYS\n",
      "\u001b[0mcore.conformation.Conformation: \u001b[0mcurrent variant for 90 CYD\n",
      "\u001b[0mcore.conformation.Conformation: \u001b[0mcurrent variant for 108 CYD\n"
     ]
    }
   ],
   "source": [
    "params = [\"farsat.params\"]\n",
    "pose = Pose()\n",
    "r = generate_nonstandard_residue_set(pose, params)\n",
    "pose_from_file(pose, \"rotamer_success/pilin_farsat_0047.pdb\")\n",
    "pymol.apply(pose)"
   ]
  },
  {
   "cell_type": "code",
   "execution_count": 19,
   "metadata": {},
   "outputs": [
    {
     "name": "stdout",
     "output_type": "stream",
     "text": [
      "\u001b[0mcore.conformation.Conformation: \u001b[0m\u001b[1m[ WARNING ]\u001b[0m Attempted to determine the residue type set of an empty pose.\n",
      "\u001b[0mcore.conformation.Conformation: \u001b[0m\u001b[1m[ WARNING ]\u001b[0m Attempted to determine the residue type set of an empty pose.\n",
      "\u001b[0mcore.import_pose.import_pose: \u001b[0mFile 'rotamer_success/pilin_farsat_0036.pdb' automatically determined to be of type PDB\n",
      "\u001b[0mcore.conformation.Conformation: \u001b[0mFound disulfide between residues 90 108\n",
      "\u001b[0mcore.conformation.Conformation: \u001b[0mcurrent variant for 90 CYS\n",
      "\u001b[0mcore.conformation.Conformation: \u001b[0mcurrent variant for 108 CYS\n",
      "\u001b[0mcore.conformation.Conformation: \u001b[0mcurrent variant for 90 CYD\n",
      "\u001b[0mcore.conformation.Conformation: \u001b[0mcurrent variant for 108 CYD\n"
     ]
    }
   ],
   "source": [
    "params = [\"farsat.params\"]\n",
    "pose = Pose()\n",
    "r = generate_nonstandard_residue_set(pose, params)\n",
    "pose_from_file(pose, \"rotamer_success/pilin_farsat_0036.pdb\")\n",
    "pymol.apply(pose)"
   ]
  },
  {
   "cell_type": "code",
   "execution_count": 14,
   "metadata": {},
   "outputs": [
    {
     "name": "stdout",
     "output_type": "stream",
     "text": [
      "\u001b[0mcore.conformation.Conformation: \u001b[0m\u001b[1m[ WARNING ]\u001b[0m Attempted to determine the residue type set of an empty pose.\n",
      "\u001b[0mcore.conformation.Conformation: \u001b[0m\u001b[1m[ WARNING ]\u001b[0m Attempted to determine the residue type set of an empty pose.\n",
      "\u001b[0mcore.import_pose.import_pose: \u001b[0mFile 'pilin_farsat.pdb' automatically determined to be of type PDB\n",
      "\u001b[0mcore.io.pose_from_sfr.PoseFromSFRBuilder: \u001b[0m\u001b[1m[ WARNING ]\u001b[0m discarding 27 atoms at position 115 in file pilin_farsat.pdb. Best match rsd_type:  pdb_FAR\n",
      "\u001b[0mcore.conformation.Conformation: \u001b[0m\u001b[1m[ WARNING ]\u001b[0m missing heavyatom:  OXT on residue ALA:CtermProteinFull 114\n",
      "\u001b[0mcore.conformation.Conformation: \u001b[0mFound disulfide between residues 90 108\n",
      "\u001b[0mcore.conformation.Conformation: \u001b[0mcurrent variant for 90 CYS\n",
      "\u001b[0mcore.conformation.Conformation: \u001b[0mcurrent variant for 108 CYS\n",
      "\u001b[0mcore.conformation.Conformation: \u001b[0mcurrent variant for 90 CYD\n",
      "\u001b[0mcore.conformation.Conformation: \u001b[0mcurrent variant for 108 CYD\n"
     ]
    }
   ],
   "source": [
    "params = [\"farsat.params\"]\n",
    "pose = Pose()\n",
    "r = generate_nonstandard_residue_set(pose, params)\n",
    "pose_from_file(pose, \"pilin_farsat.pdb\")\n",
    "pymol.apply(pose)"
   ]
  },
  {
   "cell_type": "code",
   "execution_count": 9,
   "metadata": {},
   "outputs": [
    {
     "name": "stdout",
     "output_type": "stream",
     "text": [
      "\u001b[0mcore.conformation.Conformation: \u001b[0m\u001b[1m[ WARNING ]\u001b[0m Attempted to determine the residue type set of an empty pose.\n",
      "\u001b[0mcore.conformation.Conformation: \u001b[0m\u001b[1m[ WARNING ]\u001b[0m Attempted to determine the residue type set of an empty pose.\n",
      "\u001b[0mcore.import_pose.import_pose: \u001b[0mFile 'farsat_conformers.pdb' automatically determined to be of type PDB\n"
     ]
    }
   ],
   "source": [
    "params = [\"farsat.params\"]\n",
    "pose = Pose()\n",
    "r = generate_nonstandard_residue_set(pose, params)\n",
    "pose_from_file(pose, \"farsat_conformers.pdb\")\n",
    "pymol.apply(pose)"
   ]
  },
  {
   "cell_type": "code",
   "execution_count": 9,
   "metadata": {},
   "outputs": [
    {
     "name": "stdout",
     "output_type": "stream",
     "text": [
      "\u001b[0mcore.conformation.Conformation: \u001b[0m\u001b[1m[ WARNING ]\u001b[0m Attempted to determine the residue type set of an empty pose.\n",
      "\u001b[0mcore.conformation.Conformation: \u001b[0m\u001b[1m[ WARNING ]\u001b[0m Attempted to determine the residue type set of an empty pose.\n",
      "\u001b[0mcore.import_pose.import_pose: \u001b[0mFile 'FARN.pdb' automatically determined to be of type PDB\n"
     ]
    }
   ],
   "source": [
    "params = [\"FAR.params\"]\n",
    "pose = Pose()\n",
    "r = generate_nonstandard_residue_set(pose, params)\n",
    "pose_from_file(pose, \"FARN.pdb\")\n",
    "pymol.apply(pose)"
   ]
  },
  {
   "cell_type": "code",
   "execution_count": 6,
   "metadata": {
    "scrolled": false
   },
   "outputs": [
    {
     "name": "stdout",
     "output_type": "stream",
     "text": [
      "\u001b[0mcore.chemical.GlobalResidueTypeSet: \u001b[0mFinished initializing fa_standard residue type set.  Created 606 residue types\n",
      "\u001b[0mcore.chemical.GlobalResidueTypeSet: \u001b[0mTotal time to initialize 0.730798 seconds.\n",
      "\u001b[0mcore.import_pose.import_pose: \u001b[0mFile 'pilin_A.pdb' automatically determined to be of type PDB\n",
      "\u001b[0mcore.conformation.Conformation: \u001b[0m\u001b[1m[ WARNING ]\u001b[0m missing heavyatom:  OXT on residue ALA:CtermProteinFull 114\n",
      "\u001b[0mcore.conformation.Conformation: \u001b[0mFound disulfide between residues 90 108\n",
      "\u001b[0mcore.conformation.Conformation: \u001b[0mcurrent variant for 90 CYS\n",
      "\u001b[0mcore.conformation.Conformation: \u001b[0mcurrent variant for 108 CYS\n",
      "\u001b[0mcore.conformation.Conformation: \u001b[0mcurrent variant for 90 CYD\n",
      "\u001b[0mcore.conformation.Conformation: \u001b[0mcurrent variant for 108 CYD\n"
     ]
    }
   ],
   "source": [
    "pose = pose_from_file(\"pilin_A.pdb\")\n",
    "pymol.apply(pose)"
   ]
  },
  {
   "cell_type": "code",
   "execution_count": 8,
   "metadata": {
    "scrolled": false
   },
   "outputs": [
    {
     "name": "stdout",
     "output_type": "stream",
     "text": [
      "\u001b[0mcore.conformation.Conformation: \u001b[0m\u001b[1m[ WARNING ]\u001b[0m Attempted to determine the residue type set of an empty pose.\n",
      "\u001b[0mcore.conformation.Conformation: \u001b[0m\u001b[1m[ WARNING ]\u001b[0m Attempted to determine the residue type set of an empty pose.\n",
      "\u001b[0mcore.import_pose.import_pose: \u001b[0mFile 'FAR.pdb' automatically determined to be of type PDB\n"
     ]
    }
   ],
   "source": [
    "params = [\"FAR.params\"]\n",
    "pose = Pose()\n",
    "r = generate_nonstandard_residue_set(pose, params)\n",
    "pose_from_file(pose, \"FAR.pdb\")\n",
    "pymol.apply(pose)"
   ]
  },
  {
   "cell_type": "code",
   "execution_count": 8,
   "metadata": {},
   "outputs": [
    {
     "name": "stdout",
     "output_type": "stream",
     "text": [
      "\u001b[0mcore.conformation.Conformation: \u001b[0m\u001b[1m[ WARNING ]\u001b[0m Attempted to determine the residue type set of an empty pose.\n",
      "\u001b[0mcore.conformation.Conformation: \u001b[0m\u001b[1m[ WARNING ]\u001b[0m Attempted to determine the residue type set of an empty pose.\n",
      "\u001b[0mcore.import_pose.import_pose: \u001b[0mFile 'pilin_FAR.pdb' automatically determined to be of type PDB\n",
      "\u001b[0mcore.conformation.Conformation: \u001b[0m\u001b[1m[ WARNING ]\u001b[0m missing heavyatom:  OXT on residue ALA:CtermProteinFull 114\n",
      "\u001b[0mcore.conformation.Conformation: \u001b[0mFound disulfide between residues 90 108\n",
      "\u001b[0mcore.conformation.Conformation: \u001b[0mcurrent variant for 90 CYS\n",
      "\u001b[0mcore.conformation.Conformation: \u001b[0mcurrent variant for 108 CYS\n",
      "\u001b[0mcore.conformation.Conformation: \u001b[0mcurrent variant for 90 CYD\n",
      "\u001b[0mcore.conformation.Conformation: \u001b[0mcurrent variant for 108 CYD\n"
     ]
    }
   ],
   "source": [
    "params = [\"FAR.params\"]\n",
    "pose = Pose()\n",
    "r = generate_nonstandard_residue_set(pose, params)\n",
    "pose_from_file(pose, \"pilin_FAR.pdb\")\n",
    "pymol.apply(pose)"
   ]
  },
  {
   "cell_type": "markdown",
   "metadata": {},
   "source": [
    "### Don't worry about stuff after this..."
   ]
  },
  {
   "cell_type": "code",
   "execution_count": null,
   "metadata": {},
   "outputs": [],
   "source": [
    "l = pose_from_file(\"S184_R1A_pR.pdb\")\n",
    "pymol.apply(l)"
   ]
  },
  {
   "cell_type": "code",
   "execution_count": null,
   "metadata": {
    "scrolled": true
   },
   "outputs": [],
   "source": [
    "print pose2.residue(235)\n",
    "print pose2.sequence()"
   ]
  },
  {
   "cell_type": "code",
   "execution_count": null,
   "metadata": {},
   "outputs": [],
   "source": [
    "pymol.apply(pose2)"
   ]
  },
  {
   "cell_type": "code",
   "execution_count": null,
   "metadata": {},
   "outputs": [],
   "source": [
    "# Create a vector1 of paths to your extra .params files you want loaded.\n",
    "# params_paths = utility.vector1_string()\n",
    "# params_paths.extend([\"R1A.params\", \"RET.params\"])\n",
    "params_paths = (\"R\")\n",
    "# Create a non-standard ResidueTypeSet that includes your extra .params.\n",
    "#ret = pose_from_file(\"RET.pdb\")\n",
    "nonstandard_residue_set = generate_nonstandard_residue_set(pose, params_paths)\n",
    "# Use this ResidueTypeSet when loading your pdb w/ non-standard residues.\n",
    "#pose = pose_from_file(nonstandard_residue_set, \"pr_simple.pdb\")"
   ]
  },
  {
   "cell_type": "code",
   "execution_count": null,
   "metadata": {},
   "outputs": [],
   "source": [
    "type(nonstandard_residue_set)"
   ]
  },
  {
   "cell_type": "code",
   "execution_count": null,
   "metadata": {},
   "outputs": [],
   "source": [
    "id_z = \"pr_simple\"\n",
    "cleanATOM(id_z+\".pdb\")\n",
    "pose = pose_from_file(id_z+\".clean.pdb\")\n",
    "#Doesn't work w/out cleaning\n",
    "pose = pose_from_file(id_z+\".pdb\")\n",
    "pymol.apply(pose)"
   ]
  },
  {
   "cell_type": "code",
   "execution_count": 6,
   "metadata": {},
   "outputs": [
    {
     "name": "stdout",
     "output_type": "stream",
     "text": [
      "\u001b[0mcore.conformation.Conformation: \u001b[0m\u001b[1m[ WARNING ]\u001b[0m Attempted to determine the residue type set of an empty pose.\n",
      "\u001b[0mcore.chemical.GlobalResidueTypeSet: \u001b[0mFinished initializing fa_standard residue type set.  Created 606 residue types\n",
      "\u001b[0mcore.chemical.GlobalResidueTypeSet: \u001b[0mTotal time to initialize 0.700963 seconds.\n",
      "\u001b[0mcore.conformation.Conformation: \u001b[0m\u001b[1m[ WARNING ]\u001b[0m Attempted to determine the residue type set of an empty pose.\n",
      "\u001b[0mcore.import_pose.import_pose: \u001b[0mFile 'FAR.pdb' automatically determined to be of type PDB\n"
     ]
    }
   ],
   "source": [
    "params = [\"FAR.params\"]\n",
    "pose = Pose()\n",
    "r = generate_nonstandard_residue_set(pose, params)\n",
    "pose_from_file(pose, \"FAR.pdb\")\n",
    "pymol.apply(pose)"
   ]
  },
  {
   "cell_type": "code",
   "execution_count": null,
   "metadata": {},
   "outputs": [],
   "source": []
  }
 ],
 "metadata": {
  "kernelspec": {
   "display_name": "Python 2",
   "language": "python",
   "name": "python2"
  },
  "language_info": {
   "codemirror_mode": {
    "name": "ipython",
    "version": 2
   },
   "file_extension": ".py",
   "mimetype": "text/x-python",
   "name": "python",
   "nbconvert_exporter": "python",
   "pygments_lexer": "ipython2",
   "version": "2.7.12"
  }
 },
 "nbformat": 4,
 "nbformat_minor": 2
}
