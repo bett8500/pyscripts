{
 "cells": [
  {
   "cell_type": "code",
   "execution_count": 1,
   "metadata": {},
   "outputs": [],
   "source": [
    "#!usr/bin/env python\n",
    "\n",
    "from __future__ import print_function\n",
    "\n",
    "################################################################################"
   ]
  },
  {
   "cell_type": "markdown",
   "metadata": {},
   "source": [
    "A GENERAL EXPLANATION"
   ]
  },
  {
   "cell_type": "markdown",
   "metadata": {},
   "source": [
    "\n",
    "ala_scan.py\n",
    "\n",
    "THIS SCRIPT WILL NOT WORK WITH PYROSETTA V2.0BETA OR EARLIER!\n",
    "\n",
    "This script determines the interface of a PDB file with two docked proteins and\n",
    "performs \"alanine scanning\" by iteratively mutating each interface residue to\n",
    "alanine and determining the change in \"interaction energy\". Other amino acids\n",
    "than alanine can be used. For convenience, this script is split into several\n",
    "methods for performing the individual tasks. The \"interaction energy\" is\n",
    "determined by creating the mutant, repacking residues near the mutated residue\n",
    "for the wild-type and mutant, and subtracting the pose score from its score\n",
    "when separated. An alternate method for calculating \"binding energy\" is\n",
    "provided which separates and repacks before comparing scores. When mutating,\n",
    "the protein backbone is static and nearby residues are repacked. The packing\n",
    "performed in numerous steps of this protocol is redundant (but provided to allow\n",
    "methods to function independently). Since Rosetta packing is stochastic, several\n",
    "trials of this script should be averaged to achieve the best results. Since\n",
    "Rosetta score does not convert to physical energy, the \"ddG\" predictions are\n",
    "purely qualitative.\n",
    "\n",
    "Instructions:\n",
    "\n",
    "1) ensure that your PDB file is in the current directory\n",
    "2) run the script:\n",
    "    from commandline                        >python D090_Ala_scan.py\n",
    "\n",
    "    from within python/ipython              [1]: run D090_Ala_scan.py\n",
    "\n",
    "Author: Evan H. Baugh\n",
    "    based on an original script by Sid Chaudhury\n",
    "    edited by Jianqing Xu\n",
    "    revised and motivated by Robert Schleif\n",
    "\n",
    "Updated by Boon Uranukul, 6/9/12\n",
    "Simplified special constant seed initialization ~ Labonte\n",
    "\n",
    "References:\n",
    "    Kortemme T. and Baker D. \"A simple physical model for binding energy\n",
    "        hot spots in protein-protein complexes,\" PNAS 22, 14116-14121 (2002)\n",
    "\n",
    "    Alexandra Shulman Peleg, Maxim Shatsky, Ruth Nussinov and Haim J. Wolfson,\n",
    "        \"Spatial chemical conservation of hot spot interactions in\n",
    "        protein-protein complexes,\" BMC Biology 5 5-43 (2007)\n"
   ]
  },
  {
   "cell_type": "markdown",
   "metadata": {},
   "source": [
    "THE BASIC PROTOCOL, scanning, interface_ddG, mutate_residue"
   ]
  },
  {
   "cell_type": "markdown",
   "metadata": {},
   "source": [
    "This sample script is setup for usage with\n",
    "    commandline arguments,\n",
    "    default running within a python interpreter,\n",
    "    or for import within a python interpreter,\n",
    "        (exposing the scanning method)\n",
    "\n",
    "The method sample_refinement:\n",
    "1.  creates a pose from the desired PDB file\n",
    "2.  sets up the docking FoldTree and related parameters\n",
    "3.  creates ScoreFunctions\n",
    "        -for defining the Interface\n",
    "        -for determining \"ddG\"\n",
    "4.  creates an Interface object defining the protein-protein interface\n",
    "5.  creates a PyMOLMover for exporting structures to PyMOL\n",
    "6.  perform scanning by:\n",
    "        a. looping over the pose residues, if it is an Interface residue, call\n",
    "            interface_ddG which returns the \"interaction energy\"\n",
    "        b. writing these results to an output file\n",
    "        c. printing these results"
   ]
  },
  {
   "cell_type": "markdown",
   "metadata": {},
   "source": [
    "the Interface object is required by this script"
   ]
  },
  {
   "cell_type": "code",
   "execution_count": 2,
   "metadata": {},
   "outputs": [
    {
     "name": "stdout",
     "output_type": "stream",
     "text": [
      "Found rosetta database at: /usr/local/lib/python2.7/dist-packages/pyrosetta-2018.12+release.5ecebca-py2.7-linux-x86_64.egg/pyrosetta/database; using it....\n",
      "PyRosetta-4 2017 [Rosetta PyRosetta4.Release.python27.ubuntu 2018.12+release.5ecebca5ecebcadacdf48ede3c1981444601bf1cd47ce0d 2018-03-23T13:02:49] retrieved from: http://www.pyrosetta.org\n",
      "(C) Copyright Rosetta Commons Member Institutions.\n",
      "Created in JHU by Sergey Lyskov and PyRosetta Team.\n",
      "\n",
      "\u001b[0mcore.init: \u001b[0mChecking for fconfig files in pwd and ./rosetta/flags\n",
      "\n",
      "\u001b[0mcore.init: \u001b[0mRosetta version: PyRosetta4.Release.python27.ubuntu r174 2018.12+release.5ecebca 5ecebcadacdf48ede3c1981444601bf1cd47ce0d http://www.pyrosetta.org 2018-03-23T13:02:49\n",
      "\u001b[0mcore.init: \u001b[0mcommand: PyRosetta -ex1 -ex2aro -constant_seed -database /usr/local/lib/python2.7/dist-packages/pyrosetta-2018.12+release.5ecebca-py2.7-linux-x86_64.egg/pyrosetta/database\n",
      "\u001b[0mcore.init: \u001b[0m\u001b[31m\u001b[4mConstant seed mode\u001b[0m, seed=1111111 seed_offset=0 real_seed=1111111\n",
      "\u001b[0mcore.init.random: \u001b[0mRandomGenerator:init: Normal mode, seed=1111111 RG_type=mt19937\n"
     ]
    },
    {
     "name": "stderr",
     "output_type": "stream",
     "text": [
      "/usr/local/lib/python2.7/dist-packages/ipykernel_launcher.py:1: UserWarning: Import of 'rosetta' as a top-level module is deprecated and may be removed in 2018, import via 'pyrosetta.rosetta'.\n",
      "  \"\"\"Entry point for launching an IPython kernel.\n"
     ]
    }
   ],
   "source": [
    "from rosetta.protocols.scoring import Interface\n",
    "from rosetta import *\n",
    "from pyrosetta import *\n",
    "init(extra_options = \"-constant_seed\")  # WARNING: option '-constant_seed' is for testing only! MAKE SURE TO REMOVE IT IN PRODUCTION RUNS!!!!!\n",
    "import os#; os.chdir('.test.output')\n",
    "#os.chdir('/usr/local/lib/python2.7/dist-packages/pyrosetta-2018.12+release.5ecebca-py2.7-linux-x86_64.egg/pyrosetta/database/chemical/residue_type_sets/fa_standard/residue_types/')"
   ]
  },
  {
   "cell_type": "code",
   "execution_count": 3,
   "metadata": {},
   "outputs": [],
   "source": [
    "from pyrosetta.toolbox import mutate_residue\n",
    "from pyrosetta import PyMOLMover\n",
    "#my_ip = os.environ[\"my_ip\"]\n",
    "my_ip = '127.0.0.1'\n",
    "from pyrosetta.rosetta.core.pack.dunbrack import DunbrackAAParameterSet,DunbrackAAParameterSet, DunbrackConstraintCreator, RotamerBuildingData, RotamerConstraint, RotamerLibrary\n",
    "#pyrosetta.rosetta.core.pack.dunbrack.RotamericSingleResidueDunbrackLibraryParser"
   ]
  },
  {
   "cell_type": "code",
   "execution_count": null,
   "metadata": {},
   "outputs": [],
   "source": [
    "#MTSSL = pose_from_sequence('ATNDLIAGETGZ[R1A]AFTPVWLQ', res_type=\"fa_standard\")\n",
    "MTSSL = pose_from_sequence('Z[R1A]', res_type=\"fa_standard\")"
   ]
  },
  {
   "cell_type": "code",
   "execution_count": 4,
   "metadata": {},
   "outputs": [],
   "source": [
    "pymover = PyMOLMover(my_ip, 65000)\n",
    "#pymover.apply(MTSSL)"
   ]
  },
  {
   "cell_type": "code",
   "execution_count": 25,
   "metadata": {},
   "outputs": [
    {
     "ename": "RuntimeError",
     "evalue": "\n\nFile: /home/benchmark/T/rosetta.Glass/_commits_/main/source/src/core/chemical/AA.cc:292\n[ ERROR ] UtilityExitException\nERROR: unrecognized aa type R1A\n\n",
     "output_type": "error",
     "traceback": [
      "\u001b[0;31m\u001b[0m",
      "\u001b[0;31mRuntimeError\u001b[0mTraceback (most recent call last)",
      "\u001b[0;32m<ipython-input-25-e2576dae6b89>\u001b[0m in \u001b[0;36m<module>\u001b[0;34m()\u001b[0m\n\u001b[1;32m      1\u001b[0m \u001b[0mZ\u001b[0m \u001b[0;34m=\u001b[0m \u001b[0;34m'Z[R1A]'\u001b[0m\u001b[0;34m\u001b[0m\u001b[0m\n\u001b[0;32m----> 2\u001b[0;31m \u001b[0mr\u001b[0m \u001b[0;34m=\u001b[0m \u001b[0mcore\u001b[0m\u001b[0;34m.\u001b[0m\u001b[0mchemical\u001b[0m\u001b[0;34m.\u001b[0m\u001b[0maa_from_one_or_three\u001b[0m\u001b[0;34m(\u001b[0m\u001b[0;34m'R1A'\u001b[0m\u001b[0;34m)\u001b[0m\u001b[0;34m\u001b[0m\u001b[0m\n\u001b[0m\u001b[1;32m      3\u001b[0m \u001b[0mr\u001b[0m\u001b[0;34m\u001b[0m\u001b[0m\n",
      "\u001b[0;31mRuntimeError\u001b[0m: \n\nFile: /home/benchmark/T/rosetta.Glass/_commits_/main/source/src/core/chemical/AA.cc:292\n[ ERROR ] UtilityExitException\nERROR: unrecognized aa type R1A\n\n"
     ]
    }
   ],
   "source": [
    "Z = 'Z[R1A]'\n",
    "r = core.chemical.aa_from_one_or_three('R1A')\n",
    "r"
   ]
  },
  {
   "cell_type": "markdown",
   "metadata": {},
   "source": [
    "normally, init() works fine\n",
    "for this sample script, we want to ease comparison by making sure all random\n",
    "   variables generated by Rosetta in this instance of PyRosetta start from a\n",
    "   constant seed\n",
    "here we provide the additional argument \"-constant_seed\" which sets all the\n",
    "   random variables generated by Rosetta from a constant seed (google random\n",
    "   seed for more information)\n",
    "some options can be set after initialization, please see PyRosetta.org FAQs\n",
    "   for more information"
   ]
  },
  {
   "cell_type": "markdown",
   "metadata": {},
   "source": [
    "Methods"
   ]
  },
  {
   "cell_type": "markdown",
   "metadata": {},
   "source": [
    "performs general scanning"
   ]
  },
  {
   "cell_type": "code",
   "execution_count": null,
   "metadata": {},
   "outputs": [],
   "source": [
    "def scanning(pdb_filename, partners, mutant_aa = 'A',\n",
    "        interface_cutoff = 8.0, output = False,\n",
    "        trials = 1, trial_output = ''):\n",
    "    \"\"\"\n",
    "    Performs \"scanning\" at an interface within  <pdb_filename>  between\n",
    "        <partners>  by mutating relevant residues to  <mutant_aa>  and repacking\n",
    "        residues within  <pack_radius>  Angstroms, further repacking all\n",
    "        residues within  <interface_cutoff>  of the interface residue, scoring\n",
    "        the complex and subtracting the score of a pose with the partners\n",
    "        separated by 500 Angstroms.\n",
    "        <trials>  scans are performed (to average results) with summaries written\n",
    "        to  <trial_output>_(trial#).txt.\n",
    "        Structures are exported to a PyMOL instance.\n",
    "\n",
    "    \"\"\"\n",
    "    # 1. create a pose from the desired PDB file\n",
    "    pose = Pose()\n",
    "    pose_from_file(pose, pdb_filename)\n",
    "\n",
    "    # 2. setup the docking FoldTree and other related parameters\n",
    "    dock_jump = 1\n",
    "    movable_jumps = Vector1([dock_jump])\n",
    "    protocols.docking.setup_foldtree(pose, partners, movable_jumps)\n",
    "\n",
    "    # 3. create ScoreFuncions for the Interface and \"ddG\" calculations\n",
    "    # the pose's Energies objects MUST be updated for the Interface object to\n",
    "    #    work normally\n",
    "    scorefxn = get_fa_scorefxn() #  create_score_function('standard')\n",
    "    scorefxn(pose)    # needed for proper Interface calculation\n",
    "\n",
    "    # setup a \"ddG\" ScoreFunction, custom weights\n",
    "    ddG_scorefxn = ScoreFunction()\n",
    "    ddG_scorefxn.set_weight(core.scoring.fa_atr, 0.44)\n",
    "    ddG_scorefxn.set_weight(core.scoring.fa_rep, 0.07)\n",
    "    ddG_scorefxn.set_weight(core.scoring.fa_sol, 1.0)\n",
    "    ddG_scorefxn.set_weight(core.scoring.hbond_bb_sc, 0.5)\n",
    "    ddG_scorefxn.set_weight(core.scoring.hbond_sc, 1.0)\n",
    "\n",
    "    # 4. create an Interface object for the pose\n",
    "    interface = Interface(dock_jump)\n",
    "    interface.distance(interface_cutoff)\n",
    "    interface.calculate(pose)\n",
    "\n",
    "    # 5. create a PyMOLMover for sending output to PyMOL (optional)\n",
    "    pymover = PyMOLMover()\n",
    "    pymover.keep_history(True)    # for multiple trajectories\n",
    "    pymover.apply(pose)\n",
    "    pymover.send_energy(pose)\n",
    "\n",
    "    # 6. perform scanning trials\n",
    "    # the large number of packing operations introduces a lot of variability,\n",
    "    #    for best results, perform several trials and average the results,\n",
    "    #    these score changes are useful to QUALITATIVELY defining \"hotspot\"\n",
    "    #    residues\n",
    "    # this script does not use a PyJobDistributor since no PDB files are output\n",
    "    for trial in range( trials ):\n",
    "        # store the ddG values in a dictionary\n",
    "        ddG_mutants = {}\n",
    "        for i in range(1, pose.total_residue() + 1):\n",
    "            # for residues at the interface\n",
    "            if interface.is_interface(i) == True:\n",
    "                # this way you can TURN OFF output by providing False arguments\n",
    "                #    (such as '', the default)\n",
    "                filename = ''\n",
    "                if output:\n",
    "                    filename = pose.pdb_info().name()[:-4] + '_' +\\\n",
    "                        pose.sequence()[i-1] +\\\n",
    "                        str(pose.pdb_info().number(i)) + '->' + mutant_aa\n",
    "                # determine the interace score change upon mutation\n",
    "                ddG_mutants[i] = interface_ddG(pose, i, mutant_aa,\n",
    "                    movable_jumps, ddG_scorefxn, interface_cutoff, filename )\n",
    "\n",
    "        # output results\n",
    "        print( '='*80 )\n",
    "        print( 'Trial', str( trial + 1 ) )\n",
    "        print( 'Mutants (PDB numbered)\\t\\\"ddG\\\" (interaction dependent score change)' )\n",
    "        residues = list( ddG_mutants.keys() )  # list(...) conversion is for python3 compatbility\n",
    "        residues.sort()    # easier to read\n",
    "        display = [pose.sequence()[i - 1] +\n",
    "            str(pose.pdb_info().number(i)) + mutant_aa + '\\t' +\n",
    "            str(ddG_mutants[i]) + '\\n'\n",
    "            for i in residues]\n",
    "        print( ''.join(display)[:-1] )\n",
    "        print( '='*80 )\n",
    "\n",
    "        # write to file\n",
    "        f = open(trial_output + '_' + str(trial + 1) + '.txt' , 'w' )\n",
    "        f.writelines(display)\n",
    "        f.close()\n",
    "\n",
    "    #### alternate output using scanning_analysis (see below), only display\n",
    "    ####    mutations with \"deviant\" score changes\n",
    "    print( 'Likely Hotspot Residues' )\n",
    "    for hotspot in scanning_analysis(trial_output):\n",
    "        print( hotspot )\n",
    "    print( '='*80 )"
   ]
  },
  {
   "cell_type": "markdown",
   "metadata": {},
   "source": [
    "1.  creates a copy of the pose\n",
    "2.  sets up a specific \"ddG\" ScoreFunction (if no ScoreFunction is provided)\n",
    "3.  creates a copy of the pose to mutate\n",
    "4.  mutates a single residue using mutate_residue\n",
    "5.  calculates the \"interaction energy\" ( or \"binding energy\")\n",
    "6.  outputs structures (optionally):\n",
    "        -to PyMOL\n",
    "        -to a PDB file"
   ]
  },
  {
   "cell_type": "markdown",
   "metadata": {},
   "source": [
    "returns the \"interaction energy\" for the pose with a given mutation"
   ]
  },
  {
   "cell_type": "code",
   "execution_count": null,
   "metadata": {},
   "outputs": [],
   "source": [
    "def interface_ddG( pose, mutant_position, mutant_aa, movable_jumps, scorefxn = '',\n",
    "        cutoff = 8.0, out_filename = ''):\n",
    "    # 1. create a reference copy of the pose\n",
    "    wt = Pose()    # the \"wild-type\"\n",
    "    wt.assign(pose)\n",
    "\n",
    "    # 2. setup a specific default ScoreFunction\n",
    "    if not scorefxn:\n",
    "        # this is a modified version of the scoring function discussed in\n",
    "        #    PNAS 2002 (22)14116-21, without environment dependent hbonding\n",
    "        scorefxn = ScoreFunction()\n",
    "        scorefxn.set_weight(fa_atr, 0.44)\n",
    "        scorefxn.set_weight(fa_rep, 0.07)\n",
    "        scorefxn.set_weight(fa_sol, 1.0)\n",
    "        scorefxn.set_weight(hbond_bb_sc, 0.5)\n",
    "        scorefxn.set_weight(hbond_sc, 1.0)\n",
    "\n",
    "    # 3. create a copy of the pose for mutation\n",
    "    mutant = Pose()\n",
    "    mutant.assign(pose)\n",
    "\n",
    "    # 4. mutate the desired residue\n",
    "    # the pack_radius argument of mutate_residue (see below) is redundant\n",
    "    #    for this application since the area around the mutation is already\n",
    "    #    repacked\n",
    "    mutant = mutate_residue(mutant, mutant_position, mutant_aa,\n",
    "        0.0, scorefxn)\n",
    "\n",
    "    # 5. calculate the \"interaction energy\"\n",
    "    # the method calc_interaction_energy is exposed in PyRosetta however it\n",
    "    #    does not alter the protein conformation after translation and may miss\n",
    "    #    significant interactions\n",
    "    # an alternate method for manually separating and scoring is provided called\n",
    "    #    calc_binding_energy (see Interaction Energy vs. Binding Energy below)\n",
    "    wt_score = calc_binding_energy(wt, scorefxn,\n",
    "        mutant_position, cutoff)\n",
    "    mut_score = calc_binding_energy(mutant, scorefxn,\n",
    "        mutant_position, cutoff)\n",
    "    #### the method calc_interaction_energy separates an input pose by\n",
    "    ####    500 Angstroms along the jump defined in a Vector1 of jump numbers\n",
    "    ####    for movable jumps, a ScoreFunction must also be provided\n",
    "    #### if setup_foldtree has not been applied, calc_interaction_energy may be\n",
    "    ####    wrong (since the jumps may be wrong)\n",
    "    #wt_score = calc_interaction_energy(wt, scorefxn, movable_jumps)\n",
    "    #mut_score = calc_interaction_energy(mutant, scorefxn, movable_jumps)\n",
    "    ddg = mut_score - wt_score\n",
    "\n",
    "    # 6. output data (optional)\n",
    "    # -export the mutant structure to PyMOL (optional)\n",
    "    mutant.pdb_info().name( pose.sequence()[mutant_position -1] +\n",
    "        str( pose.pdb_info().number(mutant_position)) +\n",
    "        mutant.sequence()[mutant_position - 1])\n",
    "    pymover = PyMOLMover()\n",
    "    scorefxn(mutant)\n",
    "    pymover.apply(mutant)\n",
    "    pymover.send_energy(mutant)\n",
    "\n",
    "    # -write the mutant structure to a PDB file\n",
    "    if out_filename:\n",
    "        mutant.dump_pdb(out_filename)\n",
    "\n",
    "    return ddg"
   ]
  },
  {
   "cell_type": "markdown",
   "metadata": {},
   "source": [
    "a different version of mutate_residue is provided in PyRosetta v2.0 and\n",
    "   earlier that does not optionally repack nearby residues"
   ]
  },
  {
   "cell_type": "markdown",
   "metadata": {},
   "source": [
    "replaces the residue at  <resid>  in  <pose>  with  <new_res>  with repacking"
   ]
  },
  {
   "cell_type": "code",
   "execution_count": 5,
   "metadata": {},
   "outputs": [],
   "source": [
    "def mutate_residue(pose, mutant_position, mutant_aa,\n",
    "        pack_radius = 0.0, pack_scorefxn = '' ):\n",
    "    \"\"\"\n",
    "    Replaces the residue at  <mutant_position>  in  <pose>  with  <mutant_aa>\n",
    "        and repack any residues within  <pack_radius>  Angstroms of the mutating\n",
    "        residue's center (nbr_atom) using  <pack_scorefxn>\n",
    "    note: <mutant_aa>  is the single letter name for the desired ResidueType\n",
    "\n",
    "    example:\n",
    "        mutate_residue(pose, 30, A)\n",
    "    See also:\n",
    "        Pose\n",
    "        PackRotamersMover\n",
    "        MutateResidue\n",
    "        pose_from_sequence\n",
    "    \"\"\"\n",
    "    #### a MutateResidue Mover exists similar to this except it does not pack\n",
    "    ####    the area around the mutant residue (no pack_radius feature)\n",
    "    #mutator = MutateResidue(mutant_position, mutant_aa)\n",
    "    #mutator.apply(test_pose)\n",
    "\n",
    "    if pose.is_fullatom() == False:\n",
    "        IOError( 'mutate_residue only works with fullatom poses' )\n",
    "\n",
    "    test_pose = Pose()\n",
    "    test_pose.assign(pose)\n",
    "\n",
    "    # create a standard scorefxn by default\n",
    "    if not pack_scorefxn:\n",
    "        pack_scorefxn = get_fa_scorefxn() #  create_score_function('standard')\n",
    "\n",
    "    task = standard_packer_task(test_pose)\n",
    "\n",
    "    # the Vector1 of booleans (a specific object) is needed for specifying the\n",
    "    #    mutation, this demonstrates another more direct method of setting\n",
    "    #    PackerTask options for design\n",
    "    aa_bool = rosetta.utility.vector1_bool()\n",
    "    # PyRosetta uses several ways of tracking amino acids (ResidueTypes)\n",
    "    # the numbers 1-20 correspond individually to the 20 proteogenic amino acids\n",
    "    # aa_from_oneletter returns the integer representation of an amino acid\n",
    "    #    from its one letter code\n",
    "    # convert mutant_aa to its integer representation\n",
    "    mutant_aa = core.chemical.aa_from_oneletter_code(mutant_aa)\n",
    "\n",
    "    # mutation is performed by using a PackerTask with only the mutant\n",
    "    #    amino acid available during design\n",
    "    # to do this, construct a Vector1 of booleans indicating which amino acid\n",
    "    #    (by its numerical designation, see above) to allow\n",
    "    for i in range(1, 21):\n",
    "        # in Python, logical expression are evaluated with priority, thus the\n",
    "        #    line below appends to aa_bool the truth (True or False) of the\n",
    "        #    statement i == mutant_aa\n",
    "        aa_bool.append( i == int(mutant_aa) )\n",
    "\n",
    "    # modify the mutating residue's assignment in the PackerTask using the\n",
    "    #    Vector1 of booleans across the proteogenic amino acids\n",
    "    task.nonconst_residue_task(mutant_position\n",
    "        ).restrict_absent_canonical_aas(aa_bool)\n",
    "\n",
    "    # prevent residues from packing by setting the per-residue \"options\" of\n",
    "    #    the PackerTask\n",
    "    center = pose.residue(mutant_position).nbr_atom_xyz()\n",
    "    for i in range(1, pose.total_residue() + 1):\n",
    "        # only pack the mutating residue and any within the pack_radius\n",
    "        if not i == mutant_position or center.distance_squared(\n",
    "                test_pose.residue(i).nbr_atom_xyz()) > pack_radius**2:\n",
    "            task.nonconst_residue_task(i).prevent_repacking()\n",
    "\n",
    "    # apply the mutation and pack nearby residues\n",
    "    packer = protocols.minimization_packing.PackRotamersMover(pack_scorefxn, task)\n",
    "    packer.apply(test_pose)\n",
    "\n",
    "    return test_pose"
   ]
  },
  {
   "cell_type": "code",
   "execution_count": 6,
   "metadata": {},
   "outputs": [
    {
     "name": "stdout",
     "output_type": "stream",
     "text": [
      "If the file pr_simple.clean.pdb already exists,it will be overwritten.\n",
      "PDB pr_simple.pdb successfully cleaned, non-ATOM lines removed.\n",
      "Clean data written to pr_simple.clean.pdb.\n"
     ]
    }
   ],
   "source": [
    "from pyrosetta.toolbox import cleanATOM\n",
    "id = \"pr_simple\"\n",
    "cleanATOM(id+\".pdb\")"
   ]
  },
  {
   "cell_type": "code",
   "execution_count": 8,
   "metadata": {},
   "outputs": [
    {
     "name": "stdout",
     "output_type": "stream",
     "text": [
      "core.import_pose.import_pose: File 'pr_simple.clean.pdb' automatically determined to be of type PDB\n",
      "core.io.pose_from_sfr.PoseFromSFRBuilder: [ WARNING ] discarding 1 atoms at position 1 in file pr_simple.clean.pdb. Best match rsd_type:  MET:NtermProteinFull\n",
      "core.io.pose_from_sfr.PoseFromSFRBuilder: [ WARNING ] discarding 1 atoms at position 58 in file pr_simple.clean.pdb. Best match rsd_type:  HIS\n",
      "core.io.pose_from_sfr.PoseFromSFRBuilder: [ WARNING ] discarding 1 atoms at position 80 in file pr_simple.clean.pdb. Best match rsd_type:  ASP\n",
      "core.conformation.Conformation: [ WARNING ] missing heavyatom:  OXT on residue GLY:CtermProteinFull 235\n"
     ]
    }
   ],
   "source": [
    "pose = pose_from_file(id+\".clean.pdb\")\n",
    "pymover.apply(pose)"
   ]
  },
  {
   "cell_type": "code",
   "execution_count": 23,
   "metadata": {},
   "outputs": [
    {
     "name": "stdout",
     "output_type": "stream",
     "text": [
      "core.scoring.ScoreFunctionFactory: SCOREFUNCTION: ref2015\n",
      "core.pack.task: Packer task: initialize from command line()\n",
      "\n",
      "core.pack.pack_rotamers: built 1 rotamers at 1 positions.\n",
      "core.pack.interaction_graph.interaction_graph_factory: Instantiating PDInteractionGraph\n",
      "core.pack.interaction_graph.interaction_graph_factory: IG: 2220 bytes\n"
     ]
    }
   ],
   "source": [
    "#Mutates Resi 184 on pR to W\n",
    "p =mutate_residue(pose, 167, 'W')\n",
    "pymover.apply(p)"
   ]
  },
  {
   "cell_type": "markdown",
   "metadata": {},
   "source": [
    "there is a significant difference between interaction energy and binding\n",
    "   energy (see Interaction Energy vs. Binding Energy below)"
   ]
  },
  {
   "cell_type": "code",
   "execution_count": null,
   "metadata": {},
   "outputs": [],
   "source": [
    "def calc_binding_energy(pose, scorefxn, center, cutoff = 8.0):\n",
    "    # create a copy of the pose for manipulation\n",
    "    test_pose = Pose()\n",
    "    test_pose.assign(pose)\n",
    "\n",
    "    # setup packer options\n",
    "    # the sidechain conformations of residues \"near the interface\", defined as\n",
    "    #    within  <cutoff>  Angstroms of an interface residue, may change and\n",
    "    #    must be repacked, if all residues are repacked, aberrant sidechain\n",
    "    #    conformations near the interface, but independent of complex\n",
    "    #    interactions, will be repacked for the mutant and wild-type structures\n",
    "    #    preventing them from adding noise to the score difference\n",
    "    # this method of setting up a PackerTask is different from packer_task.py\n",
    "    tf = standard_task_factory()    # create a TaskFactory\n",
    "    tf.push_back(core.pack.task.operation.RestrictToRepacking())    # restrict it to repacking\n",
    "\n",
    "    # this object contains repacking options, instead of turning the residues\n",
    "    #    \"On\" or \"Off\" directly, this will create an object for these options\n",
    "    #    and assign it to the TaskFactory\n",
    "    prevent_repacking = core.pack.task.operation.PreventRepacking()\n",
    "\n",
    "    # the \"center\" (nbr_atom) of the mutant residue, for distance calculation\n",
    "    center = test_pose.residue(center).nbr_atom_xyz()\n",
    "    for i in range(1, test_pose.total_residue() + 1):\n",
    "        # the .distance_squared method is (a little) lighter than .norm\n",
    "        # if the residue is further than <cutoff> Angstroms away, do not repack\n",
    "        if center.distance_squared(\n",
    "                test_pose.residue(i).nbr_atom_xyz()) > cutoff**2:\n",
    "            prevent_repacking.include_residue(i)\n",
    "\n",
    "    # apply these settings to the TaskFactory\n",
    "    tf.push_back(prevent_repacking)\n",
    "\n",
    "    # setup a PackRotamersMover\n",
    "    packer = protocols.minimization_packing.PackRotamersMover(scorefxn)\n",
    "    packer.task_factory(tf)\n",
    "\n",
    "    #### create a Mover for performing translation\n",
    "    #### RigidBodyTransMover is SUPPOSED to translate docking partners of a\n",
    "    ####    pose based on an axis and magnitude\n",
    "    #### test it using the PyMOLMover, it does not perform a simple translation\n",
    "    ####    I also observed a \"Hbond Tripped\" error when packing after applying\n",
    "    ####    the Mover, it appears to store inf and NaN values into hbonds\n",
    "    #transmover = RigidBodyTransMover()\n",
    "    # calc_interaction_energy separates the chains by 500.0 Angstroms,\n",
    "    #    so does this Mover\n",
    "    # if using this Mover, the step_size MUST be a float\n",
    "    # if this setting is left to default, it will move the proteins\n",
    "    #    VERY far apart\n",
    "    #transmover.step_size( 5.0 )\n",
    "\n",
    "    # repack the test_pose\n",
    "    packer.apply(test_pose)\n",
    "\n",
    "    # score this structure\n",
    "    before = scorefxn(test_pose)\n",
    "\n",
    "    # separate the docking partners\n",
    "    #### since RigidBodyTransMover DOES NOT WORK, it is not used\n",
    "    #transmover.apply(test_pose)\n",
    "\n",
    "    # here are two methods for applying a translation onto a pose structure\n",
    "    # both require an xyzVector\n",
    "    xyz = rosetta.numeric.xyzVector_double_t()    # a Vector for coordinates\n",
    "    xyz.x = 500.0    # arbitrary separation magnitude, in the x direction\n",
    "    xyz.y = 0.0    #...I didn't have this and it defaulted to 1e251...?\n",
    "    xyz.z = 0.0    #...btw thats like 1e225 light years,\n",
    "                   #    over 5e245 yrs at Warp Factor 9.999 (thanks M. Pacella)\n",
    "\n",
    "    #### here is a hacky method for translating the downstream partner of a\n",
    "    #    pose protein-protein complex (must by two-body!)\n",
    "    chain2starts = len(pose.chain_sequence(1)) + 1\n",
    "    for r in range(chain2starts, test_pose.total_residue() + 1):\n",
    "        for a in range(1, test_pose.residue(r).natoms() + 1):\n",
    "            test_pose.residue(r).set_xyz(a,\n",
    "                test_pose.residue(r).xyz(a) + xyz)\n",
    "\n",
    "    # here is an elegant way to do it, it assumes that jump number 1\n",
    "    #    defines the docking partners \"connectivity\"\n",
    "    # the pose.jump method returns a jump object CREATED from the pose jump\n",
    "    #    data, the pose itself does not own a Jump object, thus you can use\n",
    "    #    Jump methods, such as pose.jump(1).set_translation, however the object\n",
    "    #    has not been properly constructed for manipulation, thus performing\n",
    "    #    a change does not cause any problems, but is not permanently applied\n",
    "    #translate = test_pose.jump( 1 )    # copy this information explicitly\n",
    "    # adjust its translation via vector addition\n",
    "    #translate.set_translation( translate.get_translation() + xyz )\n",
    "    #test_pose.set_jump( 1 , translate )\n",
    "    # as explained above, this call will NOT work\n",
    "    #test_pose.jump(1).set_translation( test_pose.get_translation() + xyz )\n",
    "\n",
    "    # repack the test_pose after separation\n",
    "    packer.apply(test_pose)\n",
    "\n",
    "    # return the change in score\n",
    "    return before - scorefxn(test_pose)"
   ]
  },
  {
   "cell_type": "markdown",
   "metadata": {},
   "source": [
    "this is a peripheral method for performing analysis on the output files\n",
    "it is not used by default but demonstrates easy data manipulation in Python\n",
    "this method averages the output from all \"ddG\" data files and returns the\n",
    "   mutations which are more than 1 standard deviation away from the mean"
   ]
  },
  {
   "cell_type": "code",
   "execution_count": null,
   "metadata": {},
   "outputs": [],
   "source": [
    "def scanning_analysis(trial_output):\n",
    "    \"\"\"\n",
    "    Average the values of all files in this directory with  <trial_output>  in\n",
    "        their title and return the mutations (rows) that are 1 or more standard\n",
    "        deviations from the mean score change\n",
    "\n",
    "    \"\"\"\n",
    "    # extract all files\n",
    "    filenames = os.listdir(os.getcwd())\n",
    "    # remove files that don't have trial_output in their name, this assumes\n",
    "    #    these are the only relevant files, otherwise this will FAIL!\n",
    "    filenames =[i for i in filenames if trial_output in i]\n",
    "\n",
    "    # perform an initial reading, to setup lists\n",
    "    filename = filenames[0]\n",
    "    f = open(filename , 'r')\n",
    "    data = f.readlines()\n",
    "    data = [i.strip() for i in data]    # remove \"\\n\"\n",
    "    f.close()\n",
    "\n",
    "    # list of mutations, should be identical for all output files\n",
    "    mutants = [i.split('\\t')[0] for i in data]\n",
    "    ddg = [float(i.split('\\t')[1]) for i in data]\n",
    "\n",
    "    # for all files beyond the first, add the \"ddG\" values\n",
    "    for filename in filenames[1:]:\n",
    "        f = open( filename , 'r' )\n",
    "        data = f.readlines()\n",
    "        data = [i.strip() for i in data]\n",
    "        f.close()\n",
    "\n",
    "        ddg = [float(data[i].split('\\t')[1])+ddg[i] for i in range(len(data))]\n",
    "\n",
    "    # average by dividing by the number of files\n",
    "    ddg = [i/len(filenames) for i in ddg]\n",
    "\n",
    "    # take the mean\n",
    "    mean = sum(ddg)/len(ddg)\n",
    "    # determine the second central moment\n",
    "    std = [(i-mean)**2 for i in ddg]\n",
    "    std = (sum(std)/len(std))**.5\n",
    "\n",
    "    # extract list elements (for ddg and thus mutants) with a ddg value more\n",
    "    #    than 1 standard deviation away\n",
    "    significant = [i for i in range(len(ddg)) if abs(ddg[i]-mean)>std]\n",
    "    # these are the hotspots\n",
    "    hotspots = [mutants[i] for i in significant]\n",
    "\n",
    "    return hotspots"
   ]
  },
  {
   "cell_type": "markdown",
   "metadata": {},
   "source": [
    "# INTERPRETING RESULTS"
   ]
  },
  {
   "cell_type": "markdown",
   "metadata": {},
   "source": [
    "The output file(s) for this script are tab delimited columns of mutants\n",
    "(designated by the single letter amino acid representation of the original\n",
    "sequence,  the PDB number, and the single letter amino acid representation of\n",
    "the new residue) and the change in score. The Rosetta score functions are not\n",
    "scaled to any physical value and proteins vary greatly so the output score\n",
    "changes cannot easily be interpreted.\n",
    "\n",
    "The optional method scanning_analysis averages the values in these files and\n",
    "outputs mutations with potentially significant interactions. Packing makes this\n",
    "algorithm VERY NOISY requiring several trials for results to converge. Using the\n",
    "default \"-constant_seed\", the script itself is deterministic for convenience.\n",
    "\n",
    "Residues which change score significantly are likely to contribute significant\n",
    "interactions which stabilize the protein-protein complex. Since only residues\n",
    "near the protein-protein interface are considered, the score changes that are\n",
    "statistically significant indicate potential energetic effects. Small score\n",
    "changes are most likely noise resulting from repacking unimportant residues\n",
    "near the protein-protein interface.\n",
    "\n",
    "Since Rosetta scores do not scale with any physical units, the sign of the\n",
    "change should be interpreted qualitatively. Positive changes in score indicate\n",
    "poorer binding upon mutation. Negative changes in score indicate better binding\n",
    "with the new mutant (default alanine). For more accurate results, performs\n",
    "several trials and average the individual residue changes in score.\n"
   ]
  },
  {
   "cell_type": "markdown",
   "metadata": {},
   "source": [
    "## Interaction Energy vs. Binding Energy"
   ]
  },
  {
   "cell_type": "markdown",
   "metadata": {},
   "source": [
    "The analysis performed by this script is hampered by the fact that there is no\n",
    "standard method for converting a PDB into its solution-state structure.\n",
    "Simplistically, a protein-protein interaction can be modeled as:\n",
    "\n",
    "\n",
    "``A <--> A* <--\\``\n",
    "``              \\``\n",
    "``               --> A*B*``\n",
    "``              /``\n",
    "``B <--> B* <--/``\n",
    "\n",
    "Interaction Energy:    ``A* + B* <--> A*B*``\n",
    "Binding Energy:        ``A  + B  <--> A*B*``\n",
    "`\n",
    "\n",
    "Where protein A changes to state A* and protein B changes to state B* followed\n",
    "by the formation of complex A*B*. A and B represent the solution-state\n",
    "conformations of proteins A and B respectively. A* and B* represent the bound\n",
    "conformations of proteins A and B respectively. In this case, the interaction\n",
    "energy between proteins A and B is the change in energy for the process of A*\n",
    "and B* forming a complex (contextual energy changes due to the presence of the\n",
    "other partner). The binding energy is the interaction energy plus the energy\n",
    "involved in the conversion of A to A* and B to B*.\n",
    "\n",
    "Rosetta score is analogous to energy in many ways but it not explicit physical\n",
    "energy. As such, neither physical interaction energy or physical binding energy\n",
    "is calculable with accuracy using Rosetta. Without a protocol for converting a\n",
    "structure to its solution state, the binding energy is not directly accessible\n",
    "(i.e. some dependence on sampling). The method calc_interaction_energy truly\n",
    "calculates the change in score due to inter-protein interactions. The custom\n",
    "method calc_binding_energy (provided in this script) assumes that simple\n",
    "repacking of the entire protein is sufficient to convert an unbound protein\n",
    "from its bound conformation to it solution-state conformation."
   ]
  },
  {
   "cell_type": "markdown",
   "metadata": {},
   "source": [
    "# Command line parsing -- do not run\n",
    "\n",
    "everything below is added to provide commandline usage,\n",
    "  the available options are specified below\n",
    "this method:\n",
    "   1. defines the available options\n",
    "   2. loads in the commandline or default values\n",
    "   3. calls scanning with these values"
   ]
  },
  {
   "cell_type": "markdown",
   "metadata": {},
   "source": [
    "parser object for managing input options\n",
    "all defaults are for the example using \"test_dock.pdb\" with one trial\n",
    "   to provide results quickly"
   ]
  },
  {
   "cell_type": "code",
   "execution_count": null,
   "metadata": {},
   "outputs": [],
   "source": [
    "parser = optparse.OptionParser()\n",
    "parser.add_option('--pdb_filename', dest = 'pdb_filename',\n",
    "    default = '../test/data/test_dock.pdb',    # default example PDB\n",
    "    help = 'the PDB file containing the protein to refine')"
   ]
  },
  {
   "cell_type": "markdown",
   "metadata": {},
   "source": [
    "for more information on \"partners\", see sample_docking step 2."
   ]
  },
  {
   "cell_type": "code",
   "execution_count": null,
   "metadata": {},
   "outputs": [],
   "source": [
    "parser.add_option('--partners', dest = 'partners',\n",
    "    default = 'E_I',    # default for the example test_dock.pdb\n",
    "    help = 'the relative chain partners for docking')"
   ]
  },
  {
   "cell_type": "markdown",
   "metadata": {},
   "source": [
    "scanning options"
   ]
  },
  {
   "cell_type": "code",
   "execution_count": null,
   "metadata": {},
   "outputs": [],
   "source": [
    "parser.add_option('--mutant_aa', dest = 'mutant_aa',\n",
    "    default = 'A',    # default to alanine, A\n",
    "    help = 'the amino acid to mutate all residues to')\n",
    "parser.add_option('--interface_cutoff', dest = 'interface_cutoff',\n",
    "    default = '8.0',    # default to 8.0 Angstroms\n",
    "    help = 'the distance (in Angstroms) to detect residues for repacking\\\n",
    "        near the interface')\n",
    "parser.add_option('--output', dest = 'output',\n",
    "    default = '',    # default off, do now write to file\n",
    "    help = 'if True, mutant structures are written to PDB files')"
   ]
  },
  {
   "cell_type": "markdown",
   "metadata": {},
   "source": [
    "trials options"
   ]
  },
  {
   "cell_type": "code",
   "execution_count": null,
   "metadata": {},
   "outputs": [],
   "source": [
    "parser.add_option('--trials', dest='trials',\n",
    "    default = '1',    # default to single trial for speed\n",
    "    help = 'the number of trials to perform')\n",
    "parser.add_option('--trial_output', dest = 'trial_output',\n",
    "    default = 'ddG_out',    # if a specific output name is desired\n",
    "    help = 'the name preceding all output files')\n",
    "(options,args) = parser.parse_args()"
   ]
  },
  {
   "cell_type": "markdown",
   "metadata": {},
   "source": [
    "# Set options here:"
   ]
  },
  {
   "cell_type": "markdown",
   "metadata": {},
   "source": [
    "PDB file option"
   ]
  },
  {
   "cell_type": "code",
   "execution_count": null,
   "metadata": {},
   "outputs": [],
   "source": [
    "pdb_filename = options.pdb_filename\n",
    "partners = options.partners"
   ]
  },
  {
   "cell_type": "markdown",
   "metadata": {},
   "source": [
    "scanning options"
   ]
  },
  {
   "cell_type": "code",
   "execution_count": null,
   "metadata": {},
   "outputs": [],
   "source": [
    "mutant_aa = options.mutant_aa\n",
    "interface_cutoff = float(options.interface_cutoff)\n",
    "output = bool(options.output)"
   ]
  },
  {
   "cell_type": "markdown",
   "metadata": {},
   "source": [
    "trials options"
   ]
  },
  {
   "cell_type": "code",
   "execution_count": null,
   "metadata": {},
   "outputs": [],
   "source": [
    "trials = int(options.trials)\n",
    "trial_output = options.trial_output"
   ]
  },
  {
   "cell_type": "code",
   "execution_count": null,
   "metadata": {},
   "outputs": [],
   "source": [
    "scanning(pdb_filename, partners, mutant_aa,\n",
    "    interface_cutoff, output, trials, trial_output)"
   ]
  },
  {
   "cell_type": "markdown",
   "metadata": {},
   "source": [
    "ALTERNATE SCENARIOS"
   ]
  },
  {
   "cell_type": "code",
   "execution_count": null,
   "metadata": {},
   "outputs": [],
   "source": [
    "################"
   ]
  },
  {
   "cell_type": "markdown",
   "metadata": {},
   "source": [
    "A Real Example"
   ]
  },
  {
   "cell_type": "code",
   "execution_count": null,
   "metadata": {},
   "outputs": [],
   "source": [
    "\"\"\"\n",
    "All of the default variables and parameters used above are specific to\n",
    "the example with \"test_dock.pdb\", which is supposed to be simple,\n",
    "straightforward, and speedy. Here is a more practical example:\n",
    "\n",
    "The influenza protein NS1 is implicated to increase virulence. Suppose you are\n",
    "curious about the molecular mechanism of binding for this protein and decide\n",
    "to investigate using PyRosetta.\n",
    "\n",
    "1. Download a copy of RCSB PDB file 3RT3 (remove waters and any other HETATM)\n",
    "2. Make a directory containing:\n",
    "        -the PDB file for 3RT3 (cleaned of HETATMs and waters)\n",
    "            lets name it \"3RT3.clean.pdb\" here\n",
    "        -this sample script (technically not required, but otherwise the\n",
    "            commands in 3. would change since docking.py wouldn't be here)\n",
    "3. Run the script from the commandline with appropriate arguments:\n",
    "\n",
    ">python ala_scan.py --pdb_filename=3RT3.clean.pdb --partners=B_C --mutant_aa=A --interface_cutoff=8.0 --trials=20 --trial_output=3RT3_ddG --PyMOLMover_ip=off\n",
    "\n",
    "        -The partners option, \"B_C\" is PDB specific, if you change the chain\n",
    "            IDs in 3RT3, make sure this matches\n",
    "        -for alanine scanning, all residues must be mutated to alanine (A)\n",
    "        -an interface_cutoff length of 8.0 Angstroms is sufficient to include\n",
    "            all potential interface residues (there is currently to standard way\n",
    "            to identify interface residues, however 8 Angstroms is large enough\n",
    "            to account for even the largest protein-protein interfaces)\n",
    "        -the \"--output\" option is unused to prevent unwanted mutant structures\n",
    "            from being written to file\n",
    "        -20 trajectories should be sufficient to \"average-out\" noise due to\n",
    "            the stochasticity of packing\n",
    "\n",
    "4. Wait for output, this will take a little while\n",
    "5. Analyze the results (see INTERPRETING RESULTS above)\n",
    "\n",
    "Note: this is NOT intended to be used for realistic , alanine scanning\n",
    "it merely provides a \"skeleton\" for the code in PyRosetta. It may be useful\n",
    "for preliminary investigation but the best protocols are somewhat\n",
    "protein-specific, there is no current universal  method. Generally,\n",
    "a protocol similar to the one presented here with more drastic sampling and\n",
    "a larger number of trials should be sufficient to find\n",
    "\n",
    "\"\"\"\n",
    "\n",
    "##############################"
   ]
  },
  {
   "cell_type": "markdown",
   "metadata": {},
   "source": [
    "Changing Scanning Sampling"
   ]
  },
  {
   "cell_type": "code",
   "execution_count": null,
   "metadata": {},
   "outputs": [],
   "source": [
    "\"\"\"\n",
    "As dicussed above and in previous scripts (such as refinement.py), there is no\n",
    "standard method for converting a protein structure into its solution-state\n",
    "structure. Rosetta refinement is a very good protocol for predicting these\n",
    "conformation since it accepts moves based on physical constraints and\n",
    "statistical relevance (the Rosetta scores are effectively \"PDB-likeness\"\n",
    "scores). Without a trusted solution state structure, the \"binding energy\" is\n",
    "elusive.\n",
    "\n",
    "Sampling in this script ASSUMES:\n",
    "    -repacking effectively predicts the conformational changes due to mutation\n",
    "    -repacking an interface will refine (and not disrupt) interactions\n",
    "    -repacking bound conformation (while unbound) predicts the solution-state\n",
    "        structure\n",
    "\n",
    "This method will ABSOLUTELY miss any mutations which significantly effect the\n",
    "kinetics of folding. Currently, no kinetic data can be withdrawn from Rosetta\n",
    "simulations. The mutation method above is analogous to the physical process of\n",
    "instantaneously mutating an amino acid and disregards any disruption of the\n",
    "protein fold based on kinetic inaccessibility (a priori, residue identity may\n",
    "have evolved to produce the proper folding pathway and these mutations start\n",
    "from this fold). However, local disruptions in score upon mutation often\n",
    "indicate poor mutations and full ab initio predictions are wasteful.\n",
    "\n",
    "The accuracy of this script depends directly on the sampling techniques used to\n",
    "determine the impact of sequence changes on structure and the solution-state\n",
    "structure of a protein. MANY alternate methods could potentially increase the\n",
    "accuracy of this script. Although alanine is preferred for obvious experimental\n",
    "reasons, this script can perform scanning with any desired proteogenic amino\n",
    "acid.\n",
    "\n",
    "Please try alternate sampling methods to better understand how these\n",
    "algorithms perform and to find what moves best suite your problem.\n",
    "\n",
    "Note: there is a \"ddGMover\" exposed in PyRosetta however it is untested,\n",
    "this Mover likely applies a similar protocol to that above\n",
    "\n",
    "\"\"\"\n",
    "\n",
    "#############################"
   ]
  },
  {
   "cell_type": "markdown",
   "metadata": {},
   "source": [
    "Changing Scanning Scoring"
   ]
  },
  {
   "cell_type": "code",
   "execution_count": null,
   "metadata": {},
   "outputs": [],
   "source": [
    "\"\"\"\n",
    "The \"ddG ScoreFunction\" used here is used in other similar Rosetta applications\n",
    "(Rosetta actually contains a more refined alanine scanning protocol, \"ddG\").\n",
    "Like ligand interaction scoring, scanning is more accurate if the score terms\n",
    "which represent enthalpic bonuses (i.e. hydrogen bond formation, proper charge\n",
    "interactions, etc.) have higher weights. Since Rosetta scores are not\n",
    "energetically accurate, it is better to aim for qualitative predictions (i.e.\n",
    "hydrogen bonding at the interface, hydrophic interactions, etc.). Alanine\n",
    "scanning is a simple adaptation of the Rosetta code structure to different\n",
    "biochemical problem and the currently used scoring function has not been\n",
    "optimized for predictive accuracy. Many score terms and weight sets are likely\n",
    "to elucidate important protein-protein interface interactions.\n",
    "\n",
    "Please try alternate scoring functions or unique selection methods to better\n",
    "understand which scoring terms contribute to performance and to find what\n",
    "scoring best suites your problem.\n",
    "\n",
    "\"\"\""
   ]
  }
 ],
 "metadata": {
  "kernelspec": {
   "display_name": "Python 2",
   "language": "python",
   "name": "python2"
  },
  "language_info": {
   "codemirror_mode": {
    "name": "ipython",
    "version": 2
   },
   "file_extension": ".py",
   "mimetype": "text/x-python",
   "name": "python",
   "nbconvert_exporter": "python",
   "pygments_lexer": "ipython2",
   "version": "2.7.12"
  }
 },
 "nbformat": 4,
 "nbformat_minor": 2
}
