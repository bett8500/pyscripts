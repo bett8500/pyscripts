{
 "cells": [
  {
   "cell_type": "code",
   "execution_count": null,
   "metadata": {},
   "outputs": [],
   "source": [
    "from __future__ import print_function"
   ]
  },
  {
   "cell_type": "code",
   "execution_count": null,
   "metadata": {},
   "outputs": [],
   "source": [
    "from rosetta.protocols.scoring import Interface\n",
    "from rosetta import *\n",
    "from pyrosetta import *\n",
    "init()  \n",
    "import os#; os.chdir('.test.output')"
   ]
  },
  {
   "cell_type": "code",
   "execution_count": null,
   "metadata": {},
   "outputs": [],
   "source": [
    "from pyrosetta.toolbox import mutate_residue\n",
    "from pyrosetta import PyMOLMover\n",
    "my_ip = os.environ[\"my_ip\"]\n",
    "#my_ip = '127.0.0.1'\n",
    "pymover = PyMOLMover(my_ip, 65000)"
   ]
  },
  {
   "cell_type": "code",
   "execution_count": null,
   "metadata": {},
   "outputs": [],
   "source": [
    "from pyrosetta.toolbox import cleanATOM\n",
    "id = \"pr_simple\"\n",
    "cleanATOM(id+\".pdb\")\n",
    "pose = pose_from_file(id+\".clean.pdb\")\n",
    "pymover.apply(pose)"
   ]
  },
  {
   "cell_type": "code",
   "execution_count": null,
   "metadata": {},
   "outputs": [],
   "source": [
    "R1A_pose = pose_from_sequence('Z[R1A]', res_type=\"fa_standard\")\n",
    "R1A_res = R1A_pose.residue(1)\n",
    "pose.replace_residue(167, R1A_res, True)\n",
    "pymover.apply(pose)\n"
   ]
  },
  {
   "cell_type": "code",
   "execution_count": null,
   "metadata": {},
   "outputs": [],
   "source": [
    "#renders linear pR with mutation\n",
    "pR = pose_from_sequence('MKLLLILGSVIALPTFAAGGGDLDASDYTGVSFWLVTAALLASTVFFFVERDRVSAKWKTSLTVSGLVTGIAFWHYMYMRGVWIETGDSPTVFRYIDWLLTVPLLICEFYLILAAATNVAGSLFKKLLVGSLVMLVFGYMGEAGIMAAWPAFIIGCLAWVYMIYELWAGEGKSACNTASPAVQZ[R1A]AYNTMMYIIIFGWAIYPVGYFTGYLMGDGGSALNLNLIYNLADFVNKILFGLIIWNVAVKESSNA', res_type= \"fa_standard\")\n",
    "pymover.apply(pR)"
   ]
  }
 ],
 "metadata": {
  "kernelspec": {
   "display_name": "Python 2",
   "language": "python",
   "name": "python2"
  },
  "language_info": {
   "codemirror_mode": {
    "name": "ipython",
    "version": 2
   },
   "file_extension": ".py",
   "mimetype": "text/x-python",
   "name": "python",
   "nbconvert_exporter": "python",
   "pygments_lexer": "ipython2",
   "version": "2.7.12"
  }
 },
 "nbformat": 4,
 "nbformat_minor": 2
}
