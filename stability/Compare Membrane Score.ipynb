{
 "cells": [
  {
   "cell_type": "code",
   "execution_count": 2,
   "metadata": {},
   "outputs": [],
   "source": [
    "from __future__ import print_function"
   ]
  },
  {
   "cell_type": "code",
   "execution_count": 3,
   "metadata": {},
   "outputs": [
    {
     "name": "stdout",
     "output_type": "stream",
     "text": [
      "Found rosetta database at: /usr/local/lib/python2.7/dist-packages/pyrosetta-2018.12+release.5ecebca-py2.7-linux-x86_64.egg/pyrosetta/database; using it....\n",
      "PyRosetta-4 2017 [Rosetta PyRosetta4.Release.python27.ubuntu 2018.12+release.5ecebca5ecebcadacdf48ede3c1981444601bf1cd47ce0d 2018-03-23T13:02:49] retrieved from: http://www.pyrosetta.org\n",
      "(C) Copyright Rosetta Commons Member Institutions.\n",
      "Created in JHU by Sergey Lyskov and PyRosetta Team.\n",
      "\n",
      "\u001b[0mcore.init: \u001b[0mChecking for fconfig files in pwd and ./rosetta/flags\n",
      "\n",
      "\u001b[0mcore.init: \u001b[0mRosetta version: PyRosetta4.Release.python27.ubuntu r174 2018.12+release.5ecebca 5ecebcadacdf48ede3c1981444601bf1cd47ce0d http://www.pyrosetta.org 2018-03-23T13:02:49\n",
      "\u001b[0mcore.init: \u001b[0mcommand: PyRosetta -ex1 -ex2aro -database /usr/local/lib/python2.7/dist-packages/pyrosetta-2018.12+release.5ecebca-py2.7-linux-x86_64.egg/pyrosetta/database\n",
      "\u001b[0mcore.init: \u001b[0m'RNG device' seed mode, using '/dev/urandom', seed=-2099891522 seed_offset=0 real_seed=-2099891522\n",
      "\u001b[0mcore.init.random: \u001b[0mRandomGenerator:init: Normal mode, seed=-2099891522 RG_type=mt19937\n"
     ]
    },
    {
     "name": "stderr",
     "output_type": "stream",
     "text": [
      "/usr/local/lib/python2.7/dist-packages/ipykernel_launcher.py:1: UserWarning: Import of 'rosetta' as a top-level module is deprecated and may be removed in 2018, import via 'pyrosetta.rosetta'.\n",
      "  \"\"\"Entry point for launching an IPython kernel.\n"
     ]
    }
   ],
   "source": [
    "from rosetta.protocols.scoring import Interface\n",
    "from rosetta import *\n",
    "from pyrosetta import *\n",
    "from pyrosetta.teaching import *\n",
    "init()  \n",
    "import os#; os.chdir('.test.output')"
   ]
  },
  {
   "cell_type": "code",
   "execution_count": 4,
   "metadata": {},
   "outputs": [],
   "source": [
    "from pyrosetta.toolbox import mutate_residue\n",
    "from pyrosetta import PyMOLMover\n",
    "my_ip = os.environ[\"my_ip\"]\n",
    "#my_ip = '127.0.0.1'\n",
    "pymover = PyMOLMover(my_ip, 65000)"
   ]
  },
  {
   "cell_type": "code",
   "execution_count": 9,
   "metadata": {},
   "outputs": [
    {
     "name": "stdout",
     "output_type": "stream",
     "text": [
      "\u001b[0mcore.import_pose.import_pose: \u001b[0mFile 'pR_RYS.pdb' automatically determined to be of type PDB\n",
      "\u001b[0mcore.io.pose_from_sfr.PoseFromSFRBuilder: \u001b[0m\u001b[1m[ WARNING ]\u001b[0m discarding 1 atoms at position 1 in file pR_RYS.pdb. Best match rsd_type:  MET:NtermProteinFull\n",
      "\u001b[0mcore.io.pose_from_sfr.PoseFromSFRBuilder: \u001b[0m\u001b[1m[ WARNING ]\u001b[0m discarding 1 atoms at position 58 in file pR_RYS.pdb. Best match rsd_type:  HIS\n",
      "\u001b[0mcore.io.pose_from_sfr.PoseFromSFRBuilder: \u001b[0m\u001b[1m[ WARNING ]\u001b[0m discarding 1 atoms at position 80 in file pR_RYS.pdb. Best match rsd_type:  ASP\n",
      "\u001b[0mcore.io.pose_from_sfr.PoseFromSFRBuilder: \u001b[0m\u001b[1m[ WARNING ]\u001b[0m discarding 57 atoms at position 214 in file pR_RYS.pdb. Best match rsd_type:  RYS\n",
      "\u001b[0mcore.conformation.Conformation: \u001b[0m\u001b[1m[ WARNING ]\u001b[0m missing heavyatom:  CT  on residue RYS 214\n",
      "\u001b[0mcore.conformation.Conformation: \u001b[0m\u001b[1m[ WARNING ]\u001b[0m missing heavyatom:  CI  on residue RYS 214\n",
      "\u001b[0mcore.conformation.Conformation: \u001b[0m\u001b[1m[ WARNING ]\u001b[0m missing heavyatom:  CK  on residue RYS 214\n",
      "\u001b[0mcore.conformation.Conformation: \u001b[0m\u001b[1m[ WARNING ]\u001b[0m missing heavyatom:  CL1 on residue RYS 214\n",
      "\u001b[0mcore.conformation.Conformation: \u001b[0m\u001b[1m[ WARNING ]\u001b[0m missing heavyatom:  CL2 on residue RYS 214\n",
      "\u001b[0mcore.conformation.Conformation: \u001b[0m\u001b[1m[ WARNING ]\u001b[0m missing heavyatom:  CM  on residue RYS 214\n",
      "\u001b[0mcore.conformation.Conformation: \u001b[0m\u001b[1m[ WARNING ]\u001b[0m missing heavyatom:  CN  on residue RYS 214\n",
      "\u001b[0mcore.conformation.Conformation: \u001b[0m\u001b[1m[ WARNING ]\u001b[0m missing heavyatom:  CX  on residue RYS 214\n",
      "\u001b[0mcore.conformation.Conformation: \u001b[0m\u001b[1m[ WARNING ]\u001b[0m missing heavyatom:  CO1 on residue RYS 214\n",
      "\u001b[0mcore.conformation.Conformation: \u001b[0m\u001b[1m[ WARNING ]\u001b[0m missing heavyatom:  CO2 on residue RYS 214\n",
      "\u001b[0mcore.conformation.Conformation: \u001b[0m\u001b[1m[ WARNING ]\u001b[0m missing heavyatom:  CR  on residue RYS 214\n",
      "\u001b[0mcore.conformation.Conformation: \u001b[0m\u001b[1m[ WARNING ]\u001b[0m missing heavyatom:  CS1 on residue RYS 214\n",
      "\u001b[0mcore.conformation.Conformation: \u001b[0m\u001b[1m[ WARNING ]\u001b[0m missing heavyatom:  CS2 on residue RYS 214\n",
      "\u001b[0mcore.conformation.Conformation: \u001b[0m\u001b[1m[ WARNING ]\u001b[0m missing heavyatom:  CU1 on residue RYS 214\n",
      "\u001b[0mcore.conformation.Conformation: \u001b[0m\u001b[1m[ WARNING ]\u001b[0m missing heavyatom:  CU2 on residue RYS 214\n",
      "\u001b[0mcore.conformation.Conformation: \u001b[0m\u001b[1m[ WARNING ]\u001b[0m missing heavyatom:  CU3 on residue RYS 214\n",
      "\u001b[0mcore.conformation.Conformation: \u001b[0m\u001b[1m[ WARNING ]\u001b[0m missing heavyatom:  CU4 on residue RYS 214\n",
      "\u001b[0mcore.conformation.Conformation: \u001b[0m\u001b[1m[ WARNING ]\u001b[0m missing heavyatom:  CU5 on residue RYS 214\n",
      "\u001b[0mcore.conformation.Conformation: \u001b[0m\u001b[1m[ WARNING ]\u001b[0m missing heavyatom:  CP1 on residue RYS 214\n",
      "\u001b[0mcore.conformation.Conformation: \u001b[0m\u001b[1m[ WARNING ]\u001b[0m missing heavyatom:  CP2 on residue RYS 214\n",
      "\u001b[0mcore.conformation.Conformation: \u001b[0m\u001b[1m[ WARNING ]\u001b[0m missing heavyatom:  OXT on residue GLY:CtermProteinFull 235\n",
      "\u001b[0mcore.io.pose_from_sfr.PoseFromSFRBuilder: \u001b[0m\u001b[1m[ WARNING ]\u001b[0m can't find pose atom for file-residue 214 atom  C1  (trying to store temperature in PDBInfo)\n",
      "\u001b[0mcore.io.pose_from_sfr.PoseFromSFRBuilder: \u001b[0m\u001b[1m[ WARNING ]\u001b[0m can't find pose atom for file-residue 214 atom  C10 (trying to store temperature in PDBInfo)\n",
      "\u001b[0mcore.io.pose_from_sfr.PoseFromSFRBuilder: \u001b[0m\u001b[1m[ WARNING ]\u001b[0m can't find pose atom for file-residue 214 atom  C11 (trying to store temperature in PDBInfo)\n",
      "\u001b[0mcore.io.pose_from_sfr.PoseFromSFRBuilder: \u001b[0m\u001b[1m[ WARNING ]\u001b[0m can't find pose atom for file-residue 214 atom  C12 (trying to store temperature in PDBInfo)\n",
      "\u001b[0mcore.io.pose_from_sfr.PoseFromSFRBuilder: \u001b[0m\u001b[1m[ WARNING ]\u001b[0m can't find pose atom for file-residue 214 atom  C13 (trying to store temperature in PDBInfo)\n",
      "\u001b[0mcore.io.pose_from_sfr.PoseFromSFRBuilder: \u001b[0m\u001b[1m[ WARNING ]\u001b[0m can't find pose atom for file-residue 214 atom  C14 (trying to store temperature in PDBInfo)\n",
      "\u001b[0mcore.io.pose_from_sfr.PoseFromSFRBuilder: \u001b[0m\u001b[1m[ WARNING ]\u001b[0m can't find pose atom for file-residue 214 atom  C15 (trying to store temperature in PDBInfo)\n",
      "\u001b[0mcore.io.pose_from_sfr.PoseFromSFRBuilder: \u001b[0m\u001b[1m[ WARNING ]\u001b[0m can't find pose atom for file-residue 214 atom  C16 (trying to store temperature in PDBInfo)\n",
      "\u001b[0mcore.io.pose_from_sfr.PoseFromSFRBuilder: \u001b[0m\u001b[1m[ WARNING ]\u001b[0m can't find pose atom for file-residue 214 atom  C17 (trying to store temperature in PDBInfo)\n",
      "\u001b[0mcore.io.pose_from_sfr.PoseFromSFRBuilder: \u001b[0m\u001b[1m[ WARNING ]\u001b[0m can't find pose atom for file-residue 214 atom  C18 (trying to store temperature in PDBInfo)\n",
      "\u001b[0mcore.io.pose_from_sfr.PoseFromSFRBuilder: \u001b[0m\u001b[1m[ WARNING ]\u001b[0m can't find pose atom for file-residue 214 atom  C19 (trying to store temperature in PDBInfo)\n",
      "\u001b[0mcore.io.pose_from_sfr.PoseFromSFRBuilder: \u001b[0m\u001b[1m[ WARNING ]\u001b[0m can't find pose atom for file-residue 214 atom  C2  (trying to store temperature in PDBInfo)\n",
      "\u001b[0mcore.io.pose_from_sfr.PoseFromSFRBuilder: \u001b[0m\u001b[1m[ WARNING ]\u001b[0m can't find pose atom for file-residue 214 atom  C20 (trying to store temperature in PDBInfo)\n",
      "\u001b[0mcore.io.pose_from_sfr.PoseFromSFRBuilder: \u001b[0m\u001b[1m[ WARNING ]\u001b[0m can't find pose atom for file-residue 214 atom  C3  (trying to store temperature in PDBInfo)\n",
      "\u001b[0mcore.io.pose_from_sfr.PoseFromSFRBuilder: \u001b[0m\u001b[1m[ WARNING ]\u001b[0m can't find pose atom for file-residue 214 atom  C4  (trying to store temperature in PDBInfo)\n",
      "\u001b[0mcore.io.pose_from_sfr.PoseFromSFRBuilder: \u001b[0m\u001b[1m[ WARNING ]\u001b[0m can't find pose atom for file-residue 214 atom  C5  (trying to store temperature in PDBInfo)\n",
      "\u001b[0mcore.io.pose_from_sfr.PoseFromSFRBuilder: \u001b[0m\u001b[1m[ WARNING ]\u001b[0m can't find pose atom for file-residue 214 atom  C6  (trying to store temperature in PDBInfo)\n",
      "\u001b[0mcore.io.pose_from_sfr.PoseFromSFRBuilder: \u001b[0m\u001b[1m[ WARNING ]\u001b[0m can't find pose atom for file-residue 214 atom  C7  (trying to store temperature in PDBInfo)\n",
      "\u001b[0mcore.io.pose_from_sfr.PoseFromSFRBuilder: \u001b[0m\u001b[1m[ WARNING ]\u001b[0m can't find pose atom for file-residue 214 atom  C8  (trying to store temperature in PDBInfo)\n",
      "\u001b[0mcore.io.pose_from_sfr.PoseFromSFRBuilder: \u001b[0m\u001b[1m[ WARNING ]\u001b[0m can't find pose atom for file-residue 214 atom  C9  (trying to store temperature in PDBInfo)\n",
      "\u001b[0mcore.pack.pack_missing_sidechains: \u001b[0mpacking residue number 214 because of missing atom number 10 atom name  CT\n",
      "\u001b[0mcore.pack.task: \u001b[0mPacker task: initialize from command line()\n",
      "\u001b[0mcore.scoring.ScoreFunctionFactory: \u001b[0mSCOREFUNCTION: \u001b[32mref2015\u001b[0m\n",
      "\u001b[0mcore.pack.rotamer_set.RotamerSet_: \u001b[0mUsing simple Rotamer generation logic for RYS\n",
      "\u001b[0mcore.pack.rotamer_set.RotamerSet_: \u001b[0m\u001b[1m[ WARNING ]\u001b[0m including current in order to get at least 1 rotamer !!!!!! 214 RYS\n",
      "\n",
      "\u001b[0mcore.pack.pack_rotamers: \u001b[0mbuilt 1 rotamers at 1 positions.\n",
      "\u001b[0mcore.pack.interaction_graph.interaction_graph_factory: \u001b[0mInstantiating DensePDInteractionGraph\n",
      "\u001b[0mcore.pack.interaction_graph.interaction_graph_factory: \u001b[0mIG: 800 bytes\n",
      "\u001b[0mcore.import_pose.import_pose: \u001b[0mFile 'mem_rel_pR_RYS_0001.pdb' automatically determined to be of type PDB\n",
      "\u001b[0mcore.chemical: \u001b[0m\u001b[1m[ WARNING ]\u001b[0m Patch N_Methylation implies it can apply to residue type RYS, but actually applying it fails.\n",
      "\u001b[0mcore.chemical: \u001b[0m\u001b[1m[ WARNING ]\u001b[0m    You may want to check your patch definitions.\n",
      "\u001b[0mcore.chemical: \u001b[0m\u001b[1m[ WARNING ]\u001b[0m Patch N_Methylation implies it can apply to residue type DRYS, but actually applying it fails.\n",
      "\u001b[0mcore.chemical: \u001b[0m\u001b[1m[ WARNING ]\u001b[0m    You may want to check your patch definitions.\n",
      "\u001b[0mcore.chemical: \u001b[0m\u001b[1m[ WARNING ]\u001b[0m Patch N_Methylation implies it can apply to residue type DRYS, but actually applying it fails.\n",
      "\u001b[0mcore.chemical: \u001b[0m\u001b[1m[ WARNING ]\u001b[0m    You may want to check your patch definitions.\n",
      "\u001b[0mcore.chemical: \u001b[0m\u001b[1m[ WARNING ]\u001b[0m Patch N_Methylation implies it can apply to residue type DRYS, but actually applying it fails.\n",
      "\u001b[0mcore.chemical: \u001b[0m\u001b[1m[ WARNING ]\u001b[0m    You may want to check your patch definitions.\n",
      "\u001b[0mcore.chemical: \u001b[0m\u001b[1m[ WARNING ]\u001b[0m Patch N_Methylation implies it can apply to residue type DRYS, but actually applying it fails.\n",
      "\u001b[0mcore.chemical: \u001b[0m\u001b[1m[ WARNING ]\u001b[0m    You may want to check your patch definitions.\n",
      "\u001b[0mcore.chemical: \u001b[0m\u001b[1m[ WARNING ]\u001b[0m Patch MethylatedCtermProteinFull implies it can apply to residue type RYS, but actually applying it fails.\n"
     ]
    },
    {
     "name": "stdout",
     "output_type": "stream",
     "text": [
      "\u001b[0mcore.chemical: \u001b[0m\u001b[1m[ WARNING ]\u001b[0m    You may want to check your patch definitions.\n",
      "\u001b[0mcore.chemical: \u001b[0m\u001b[1m[ WARNING ]\u001b[0m Patch MethylatedCtermProteinFull implies it can apply to residue type DRYS, but actually applying it fails.\n",
      "\u001b[0mcore.chemical: \u001b[0m\u001b[1m[ WARNING ]\u001b[0m    You may want to check your patch definitions.\n",
      "\u001b[0mcore.chemical: \u001b[0m\u001b[1m[ WARNING ]\u001b[0m Patch MethylatedCtermProteinFull implies it can apply to residue type DRYS, but actually applying it fails.\n",
      "\u001b[0mcore.chemical: \u001b[0m\u001b[1m[ WARNING ]\u001b[0m    You may want to check your patch definitions.\n",
      "\u001b[0mcore.chemical: \u001b[0m\u001b[1m[ WARNING ]\u001b[0m Patch AcetylatedNtermProteinFull implies it can apply to residue type RYS, but actually applying it fails.\n",
      "\u001b[0mcore.chemical: \u001b[0m\u001b[1m[ WARNING ]\u001b[0m    You may want to check your patch definitions.\n",
      "\u001b[0mcore.chemical: \u001b[0m\u001b[1m[ WARNING ]\u001b[0m Patch AcetylatedNtermProteinFull implies it can apply to residue type DRYS, but actually applying it fails.\n",
      "\u001b[0mcore.chemical: \u001b[0m\u001b[1m[ WARNING ]\u001b[0m    You may want to check your patch definitions.\n",
      "\u001b[0mcore.chemical: \u001b[0m\u001b[1m[ WARNING ]\u001b[0m Patch AcetylatedNtermProteinFull implies it can apply to residue type DRYS, but actually applying it fails.\n",
      "\u001b[0mcore.chemical: \u001b[0m\u001b[1m[ WARNING ]\u001b[0m    You may want to check your patch definitions.\n"
     ]
    }
   ],
   "source": [
    "pose = pose_from_file(\"pR_RYS.pdb\")\n",
    "#pymover.apply(pose)\n",
    "pose2 = pose_from_file(\"mem_rel_pR_RYS_0001.pdb\")"
   ]
  },
  {
   "cell_type": "code",
   "execution_count": 6,
   "metadata": {},
   "outputs": [
    {
     "name": "stdout",
     "output_type": "stream",
     "text": [
      "\u001b[0mcore.import_pose.import_pose: \u001b[0mFile 'mem_rel_S184_R1A_pR_RYS_0001.pdb' automatically determined to be of type PDB\n",
      "\u001b[0mcore.chemical: \u001b[0m\u001b[1m[ WARNING ]\u001b[0m Patch N_Methylation implies it can apply to residue type RYS, but actually applying it fails.\n",
      "\u001b[0mcore.chemical: \u001b[0m\u001b[1m[ WARNING ]\u001b[0m    You may want to check your patch definitions.\n",
      "\u001b[0mcore.chemical: \u001b[0m\u001b[1m[ WARNING ]\u001b[0m Patch N_Methylation implies it can apply to residue type DRYS, but actually applying it fails.\n",
      "\u001b[0mcore.chemical: \u001b[0m\u001b[1m[ WARNING ]\u001b[0m    You may want to check your patch definitions.\n",
      "\u001b[0mcore.chemical: \u001b[0m\u001b[1m[ WARNING ]\u001b[0m Patch N_Methylation implies it can apply to residue type DRYS, but actually applying it fails.\n",
      "\u001b[0mcore.chemical: \u001b[0m\u001b[1m[ WARNING ]\u001b[0m    You may want to check your patch definitions.\n",
      "\u001b[0mcore.chemical: \u001b[0m\u001b[1m[ WARNING ]\u001b[0m Patch N_Methylation implies it can apply to residue type DRYS, but actually applying it fails.\n",
      "\u001b[0mcore.chemical: \u001b[0m\u001b[1m[ WARNING ]\u001b[0m    You may want to check your patch definitions.\n",
      "\u001b[0mcore.chemical: \u001b[0m\u001b[1m[ WARNING ]\u001b[0m Patch N_Methylation implies it can apply to residue type DRYS, but actually applying it fails.\n",
      "\u001b[0mcore.chemical: \u001b[0m\u001b[1m[ WARNING ]\u001b[0m    You may want to check your patch definitions.\n",
      "\u001b[0mcore.chemical: \u001b[0m\u001b[1m[ WARNING ]\u001b[0m Patch MethylatedCtermProteinFull implies it can apply to residue type RYS, but actually applying it fails.\n",
      "\u001b[0mcore.chemical: \u001b[0m\u001b[1m[ WARNING ]\u001b[0m    You may want to check your patch definitions.\n",
      "\u001b[0mcore.chemical: \u001b[0m\u001b[1m[ WARNING ]\u001b[0m Patch MethylatedCtermProteinFull implies it can apply to residue type DRYS, but actually applying it fails.\n",
      "\u001b[0mcore.chemical: \u001b[0m\u001b[1m[ WARNING ]\u001b[0m    You may want to check your patch definitions.\n",
      "\u001b[0mcore.chemical: \u001b[0m\u001b[1m[ WARNING ]\u001b[0m Patch MethylatedCtermProteinFull implies it can apply to residue type DRYS, but actually applying it fails.\n",
      "\u001b[0mcore.chemical: \u001b[0m\u001b[1m[ WARNING ]\u001b[0m    You may want to check your patch definitions.\n",
      "\u001b[0mcore.chemical: \u001b[0m\u001b[1m[ WARNING ]\u001b[0m Patch AcetylatedNtermProteinFull implies it can apply to residue type RYS, but actually applying it fails.\n",
      "\u001b[0mcore.chemical: \u001b[0m\u001b[1m[ WARNING ]\u001b[0m    You may want to check your patch definitions.\n",
      "\u001b[0mcore.chemical: \u001b[0m\u001b[1m[ WARNING ]\u001b[0m Patch AcetylatedNtermProteinFull implies it can apply to residue type DRYS, but actually applying it fails.\n",
      "\u001b[0mcore.chemical: \u001b[0m\u001b[1m[ WARNING ]\u001b[0m    You may want to check your patch definitions.\n",
      "\u001b[0mcore.chemical: \u001b[0m\u001b[1m[ WARNING ]\u001b[0m Patch AcetylatedNtermProteinFull implies it can apply to residue type DRYS, but actually applying it fails.\n",
      "\u001b[0mcore.chemical: \u001b[0m\u001b[1m[ WARNING ]\u001b[0m    You may want to check your patch definitions.\n"
     ]
    }
   ],
   "source": [
    "mut = pose_from_file(\"mem_rel_S184_R1A_pR_RYS_0001.pdb\")\n",
    "#pymover.apply(mut)"
   ]
  },
  {
   "cell_type": "code",
   "execution_count": 7,
   "metadata": {},
   "outputs": [
    {
     "name": "stdout",
     "output_type": "stream",
     "text": [
      "\u001b[0mbasic.io.database: \u001b[0mDatabase file opened: scoring/score_functions/PairEPotential/pdb_pair_stats_fine\n",
      "\u001b[0mcore.scoring.etable: \u001b[0mStarting energy table calculation\n",
      "\u001b[0mcore.scoring.etable: \u001b[0msmooth_etable: changing atr/rep split to bottom of energy well\n",
      "\u001b[0mcore.scoring.etable: \u001b[0msmooth_etable: spline smoothing lj etables (maxdis = 6)\n",
      "\u001b[0mcore.scoring.etable: \u001b[0msmooth_etable: spline smoothing solvation etables (max_dis = 6)\n",
      "\u001b[0mcore.scoring.etable: \u001b[0mFinished calculating energy tables.\n",
      "\u001b[0mcore.scoring.etable: \u001b[0mUsing alternate parameters: LK_DGFREE in MembEtable construction.\n",
      "\u001b[0mcore.scoring.etable: \u001b[0mUsing alternate parameters: MEMB_LK_DGFREE in MembEtable construction.\n",
      "\u001b[0mcore.scoring.etable: \u001b[0mUsing alternate parameters: LK_DGREFCE in MembEtable construction.\n",
      "\u001b[0mcore.scoring.etable: \u001b[0mUsing alternate parameters: MEMB_LK_DGREFCE in MembEtable construction.\n",
      "\u001b[0mcore.scoring.etable: \u001b[0mStarting membrane specific energy table calculation\n",
      "\u001b[0mcore.scoring.etable: \u001b[0msmooth_etable: spline smoothing solvation etables (max_dis = 6)\n",
      "\u001b[0mcore.scoring.etable: \u001b[0mFinished calculating membrane specific energy tables.\n",
      "\u001b[0mbasic.io.database: \u001b[0mDatabase file opened: scoring/score_functions/MembranePotential/CEN10_Menv_smooth_log.txt\n",
      "\u001b[0mcore.scoring.ramachandran: \u001b[0mshapovalov_lib::shap_rama_smooth_level of 4( aka highest_smooth ) got activated.\n",
      "\u001b[0mbasic.io.database: \u001b[0mDatabase file opened: scoring/score_functions/rama/shapovalov/kappa25/all.ramaProb\n"
     ]
    },
    {
     "data": {
      "text/plain": [
       "<pyrosetta.rosetta.core.scoring.ScoreFunction at 0x7f9ed2768458>"
      ]
     },
     "execution_count": 7,
     "metadata": {},
     "output_type": "execute_result"
    }
   ],
   "source": [
    "sfxn = create_score_function( \"mpframework_smooth_fa_2012\")\n",
    "# sfxna = get_fa_scorefxn()\n",
    "# sfxn = ScoreFunction()\n",
    "# sfxn.set_weight(fa_atr, 0.800)\n",
    "# sfxn.set_weight(fa_rep, 0.440)\n",
    "# sfxn.set_weight(fa_intra_rep, 0.004)\n",
    "# sfxn.set_weight(fa_pair, 0.490)\n",
    "# sfxn.set_weight(fa_dun, 0.560)\n",
    "# sfxn.set_weight(fa_mpenv, 0.300)\n",
    "# sfxn.set_weight(fa_mpenv_smooth, 0.500)\n",
    "# sfxn.set_weight(fa_mpsolv, 0.350)\n",
    "# sfxn.set_weight(hbond_sr_bb, 1.170)\n",
    "# sfxn.set_weight(hbond_lr_bb, 1.170)\n",
    "# sfxn.set_weight(hbond_bb_sc, 2.340)\n",
    "# sfxn.set_weight(hbond_sc, 2.200)\n",
    "# sfxn.set_weight(p_aa_pp, 0.320)\n",
    "# sfxn.set_weight(dslf_ss_dst, 0.500)\n",
    "# sfxn.set_weight(dslf_cs_ang, 2.000)\n",
    "# sfxn.set_weight(dslf_ss_dih, 5.000)\n",
    "# sfxn.set_weight(dslf_ca_dih, 5.000)\n",
    "# sfxn.set_weight(pro_close, 1.000)\n",
    "# sfxn.set_weight(omega, 0.500)\n",
    "# sfxn.set_weight(fa_elec, 0.875)\n",
    "# sfxn.set_weight(ref, 1.000)\n",
    "sfxn"
   ]
  },
  {
   "cell_type": "code",
   "execution_count": 8,
   "metadata": {},
   "outputs": [
    {
     "ename": "RuntimeError",
     "evalue": "\n\nFile: /home/benchmark/T/rosetta.Glass/_commits_/main/source/src/core/conformation/Conformation.cc:725\n[ ERROR ] UtilityExitException\nERROR: Incomplete Conformation: Trying to access membrane framework data without initializing with AddMembraneMover. Exiting!\n\n",
     "output_type": "error",
     "traceback": [
      "\u001b[0;31m---------------------------------------------------------------------------\u001b[0m",
      "\u001b[0;31mRuntimeError\u001b[0m                              Traceback (most recent call last)",
      "\u001b[0;32m<ipython-input-8-a3c96b8a80df>\u001b[0m in \u001b[0;36m<module>\u001b[0;34m()\u001b[0m\n\u001b[0;32m----> 1\u001b[0;31m \u001b[0msfxn\u001b[0m\u001b[0;34m(\u001b[0m\u001b[0mpose\u001b[0m\u001b[0;34m)\u001b[0m\u001b[0;34m\u001b[0m\u001b[0m\n\u001b[0m",
      "\u001b[0;31mRuntimeError\u001b[0m: \n\nFile: /home/benchmark/T/rosetta.Glass/_commits_/main/source/src/core/conformation/Conformation.cc:725\n[ ERROR ] UtilityExitException\nERROR: Incomplete Conformation: Trying to access membrane framework data without initializing with AddMembraneMover. Exiting!\n\n"
     ]
    }
   ],
   "source": [
    "sfxn(pose)"
   ]
  },
  {
   "cell_type": "code",
   "execution_count": null,
   "metadata": {},
   "outputs": [],
   "source": []
  }
 ],
 "metadata": {
  "kernelspec": {
   "display_name": "Python 2",
   "language": "python",
   "name": "python2"
  },
  "language_info": {
   "codemirror_mode": {
    "name": "ipython",
    "version": 2
   },
   "file_extension": ".py",
   "mimetype": "text/x-python",
   "name": "python",
   "nbconvert_exporter": "python",
   "pygments_lexer": "ipython2",
   "version": "2.7.12"
  }
 },
 "nbformat": 4,
 "nbformat_minor": 2
}
