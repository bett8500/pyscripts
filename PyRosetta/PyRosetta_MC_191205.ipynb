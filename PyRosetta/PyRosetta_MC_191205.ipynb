{
 "cells": [
  {
   "cell_type": "code",
   "execution_count": 1,
   "metadata": {},
   "outputs": [],
   "source": [
    "import pyrosetta.rosetta\n",
    "from pyrosetta import *\n",
    "from pyrosetta.rosetta import *\n",
    "import sys, os\n",
    "from pyrosetta import PyMOLMover\n",
    "import random\n",
    "import numpy as np\n",
    "from numpy.random import choice\n",
    "import matplotlib.pyplot as plt"
   ]
  },
  {
   "cell_type": "code",
   "execution_count": 2,
   "metadata": {},
   "outputs": [
    {
     "name": "stdout",
     "output_type": "stream",
     "text": [
      "Found rosetta database at: /usr/local/lib/python2.7/dist-packages/pyrosetta-2018.12+release.5ecebca-py2.7-linux-x86_64.egg/pyrosetta/database; using it....\n",
      "PyRosetta-4 2017 [Rosetta PyRosetta4.Release.python27.ubuntu 2018.12+release.5ecebca5ecebcadacdf48ede3c1981444601bf1cd47ce0d 2018-03-23T13:02:49] retrieved from: http://www.pyrosetta.org\n",
      "(C) Copyright Rosetta Commons Member Institutions.\n",
      "Created in JHU by Sergey Lyskov and PyRosetta Team.\n",
      "\n",
      "\u001b[0mcore.init: \u001b[0mChecking for fconfig files in pwd and ./rosetta/flags\n",
      "\n",
      "\u001b[0mcore.init: \u001b[0mRosetta version: PyRosetta4.Release.python27.ubuntu r174 2018.12+release.5ecebca 5ecebcadacdf48ede3c1981444601bf1cd47ce0d http://www.pyrosetta.org 2018-03-23T13:02:49\n",
      "\u001b[0mcore.init: \u001b[0mcommand: PyRosetta -ex1 -ex2aro -database /usr/local/lib/python2.7/dist-packages/pyrosetta-2018.12+release.5ecebca-py2.7-linux-x86_64.egg/pyrosetta/database\n",
      "\u001b[0mcore.init: \u001b[0m'RNG device' seed mode, using '/dev/urandom', seed=-1060743217 seed_offset=0 real_seed=-1060743217\n",
      "\u001b[0mcore.init.random: \u001b[0mRandomGenerator:init: Normal mode, seed=-1060743217 RG_type=mt19937\n"
     ]
    }
   ],
   "source": [
    "pyrosetta.init()"
   ]
  },
  {
   "cell_type": "code",
   "execution_count": 3,
   "metadata": {
    "scrolled": true
   },
   "outputs": [
    {
     "name": "stdout",
     "output_type": "stream",
     "text": [
      "\u001b[0mcore.scoring.ScoreFunctionFactory: \u001b[0mSCOREFUNCTION: \u001b[32mref2015\u001b[0m\n",
      "\u001b[0mcore.scoring.etable: \u001b[0mStarting energy table calculation\n",
      "\u001b[0mcore.scoring.etable: \u001b[0msmooth_etable: changing atr/rep split to bottom of energy well\n",
      "\u001b[0mcore.scoring.etable: \u001b[0msmooth_etable: spline smoothing lj etables (maxdis = 6)\n",
      "\u001b[0mcore.scoring.etable: \u001b[0msmooth_etable: spline smoothing solvation etables (max_dis = 6)\n",
      "\u001b[0mcore.scoring.etable: \u001b[0mFinished calculating energy tables.\n",
      "\u001b[0mbasic.io.database: \u001b[0mDatabase file opened: scoring/score_functions/hbonds/ref2015_params/HBPoly1D.csv\n",
      "\u001b[0mbasic.io.database: \u001b[0mDatabase file opened: scoring/score_functions/hbonds/ref2015_params/HBFadeIntervals.csv\n",
      "\u001b[0mbasic.io.database: \u001b[0mDatabase file opened: scoring/score_functions/hbonds/ref2015_params/HBEval.csv\n",
      "\u001b[0mbasic.io.database: \u001b[0mDatabase file opened: scoring/score_functions/hbonds/ref2015_params/DonStrength.csv\n",
      "\u001b[0mbasic.io.database: \u001b[0mDatabase file opened: scoring/score_functions/hbonds/ref2015_params/AccStrength.csv\n",
      "\u001b[0mcore.chemical.GlobalResidueTypeSet: \u001b[0mFinished initializing fa_standard residue type set.  Created 606 residue types\n",
      "\u001b[0mcore.chemical.GlobalResidueTypeSet: \u001b[0mTotal time to initialize 0.631574 seconds.\n",
      "\u001b[0mbasic.io.database: \u001b[0mDatabase file opened: scoring/score_functions/rama/fd/all.ramaProb\n",
      "\u001b[0mbasic.io.database: \u001b[0mDatabase file opened: scoring/score_functions/rama/fd/prepro.ramaProb\n",
      "\u001b[0mbasic.io.database: \u001b[0mDatabase file opened: scoring/score_functions/omega/omega_ppdep.all.txt\n",
      "\u001b[0mbasic.io.database: \u001b[0mDatabase file opened: scoring/score_functions/omega/omega_ppdep.gly.txt\n",
      "\u001b[0mbasic.io.database: \u001b[0mDatabase file opened: scoring/score_functions/omega/omega_ppdep.pro.txt\n",
      "\u001b[0mbasic.io.database: \u001b[0mDatabase file opened: scoring/score_functions/omega/omega_ppdep.valile.txt\n",
      "\u001b[0mbasic.io.database: \u001b[0mDatabase file opened: scoring/score_functions/P_AA_pp/P_AA\n",
      "\u001b[0mbasic.io.database: \u001b[0mDatabase file opened: scoring/score_functions/P_AA_pp/P_AA_n\n",
      "\u001b[0mcore.scoring.P_AA: \u001b[0mshapovalov_lib::shap_p_aa_pp_smooth_level of 1( aka low_smooth ) got activated.\n",
      "\u001b[0mbasic.io.database: \u001b[0mDatabase file opened: scoring/score_functions/P_AA_pp/shapovalov/10deg/kappa131/a20.prop\n"
     ]
    }
   ],
   "source": [
    "sfxn = pyrosetta.get_fa_scorefxn()"
   ]
  },
  {
   "cell_type": "code",
   "execution_count": 6,
   "metadata": {},
   "outputs": [],
   "source": [
    "## still isnt working? used the ip that appears in PyMOL.\n",
    "my_ip = os.environ[\"my_ip\"]\n",
    "pmm = PyMOLMover(my_ip,65000)"
   ]
  },
  {
   "cell_type": "code",
   "execution_count": 15,
   "metadata": {},
   "outputs": [],
   "source": [
    "def MonteCarlo(pose, ntrials, simname, new_pose = False):\n",
    "    \"\"\"\n",
    "    \"\"\"\n",
    "    if new_pose == True:\n",
    "        dump_pdb(pose, simname+\"_init.pdb\") # save initial pose to multimodel pdb\n",
    "    scores = np.zeros((ntrials+1)) # empty array for score after each \n",
    "                                         # MC trial, including the initial score\n",
    "    begin_pose = Pose()\n",
    "    begin_pose.assign(pose)\n",
    "    i = sfxn(begin_pose) # initial score\n",
    "    scores[0] = i # adding ititial score to \"scores\" array    \n",
    "    for trial in range(ntrials):\n",
    "        init_pose = Pose()     #{defining initial \n",
    "        init_pose.assign(pose) # pose}\n",
    "        start = sfxn(init_pose) # score at beggining of MC trial\n",
    "        for resi in range(len(pose.residues)): # so all residues get a change\n",
    "            init_phi = pose.phi(resi+1) # initial phi angle of the residue\n",
    "            init_psi = pose.psi(resi+1) # initial psi angle of the residue\n",
    "            phi = random.gauss(init_phi, 25) #{ random angle chosen from a gaussian \n",
    "            psi = random.gauss(init_psi, 25) # distribution of angles with the initial\n",
    "                                             # angle as the mean and a 25 degree stdev}\n",
    "            pose.set_phi(resi+1, phi) # setting phi to random angle\n",
    "            pose.set_psi(resi+1, psi) # setting psi to random angle\n",
    "        fin_pose = Pose()\n",
    "        fin_pose.assign(pose)\n",
    "        finish = sfxn(fin_pose) # score at end of MC trial\n",
    "        scores[trial+1] = finish\n",
    "        #To allow if statment for selecting lowest-scoring pose to work:\n",
    "        truth = np.zeros((scores.shape))\n",
    "        for j in scores:\n",
    "            if finish<=j:\n",
    "                truth[:] = 0\n",
    "            else:\n",
    "                truth[:] = 1\n",
    "        # The if statement:\n",
    "        if all(k == 0 for k in truth)==True:\n",
    "            if finish<i:\n",
    "                print \"~~~~~~~~~~~~~~~~~~~~~~~~~~~~~~~~~~~~~~~~~~~~~~~~~~~~~~~~~~~\"\n",
    "                print \"found low!!!\", \" The score is:\", finish, \"*******\"\n",
    "                low_pose = Pose()\n",
    "                low_pose.assign(pose)\n",
    "                dump_pdb(pose, simname+\"_low.pdb\")\n",
    "            else: \n",
    "                print \"~~~~~~~~~~~~~~~~~~~~~~~~~~~~~~~~~~~~~~~~~~~~~~\"\n",
    "                print \"initial was lowest scoring:\", i\n",
    "                low_pose = begin_pose\n",
    "        else:\n",
    "            dump_pdb(fin_pose, simname+\"_\"+str(trial)+\".pdb\")\n",
    "        dE = finish-start\n",
    "        if dE<0:\n",
    "            P = 1\n",
    "        if dE>0:\n",
    "            P = np.exp(-dE) #score should be in units of kT and typical\n",
    "                            # temp is 1 kT (double check this)\n",
    "        chosen = choice([0,1],None,p=[1-P,P])\n",
    "        poses = [init_pose,fin_pose]\n",
    "        next_pose = poses[chosen]\n",
    "        next_pose.assign(poses[chosen])\n",
    "    plt.plot(range(ntrials+1),scores)\n",
    "    plt.show()\n",
    "    return scores, fin_pose, low_pose"
   ]
  },
  {
   "cell_type": "code",
   "execution_count": 19,
   "metadata": {},
   "outputs": [
    {
     "name": "stdout",
     "output_type": "stream",
     "text": [
      "\u001b[0mcore.import_pose.import_pose: \u001b[0mFile './testing_new_rosetta_compile/pR_9.pdb' automatically determined to be of type PDB\n",
      "\u001b[0mcore.chemical: \u001b[0m\u001b[1m[ WARNING ]\u001b[0m Patch N_Methylation implies it can apply to residue type RYS, but actually applying it fails.\n",
      "\u001b[0mcore.chemical: \u001b[0m\u001b[1m[ WARNING ]\u001b[0m    You may want to check your patch definitions.\n",
      "\u001b[0mcore.chemical: \u001b[0m\u001b[1m[ WARNING ]\u001b[0m Patch N_Methylation implies it can apply to residue type DRYS, but actually applying it fails.\n",
      "\u001b[0mcore.chemical: \u001b[0m\u001b[1m[ WARNING ]\u001b[0m    You may want to check your patch definitions.\n",
      "\u001b[0mcore.chemical: \u001b[0m\u001b[1m[ WARNING ]\u001b[0m Patch N_Methylation implies it can apply to residue type DRYS, but actually applying it fails.\n",
      "\u001b[0mcore.chemical: \u001b[0m\u001b[1m[ WARNING ]\u001b[0m    You may want to check your patch definitions.\n",
      "\u001b[0mcore.chemical: \u001b[0m\u001b[1m[ WARNING ]\u001b[0m Patch N_Methylation implies it can apply to residue type DRYS, but actually applying it fails.\n",
      "\u001b[0mcore.chemical: \u001b[0m\u001b[1m[ WARNING ]\u001b[0m    You may want to check your patch definitions.\n",
      "\u001b[0mcore.chemical: \u001b[0m\u001b[1m[ WARNING ]\u001b[0m Patch N_Methylation implies it can apply to residue type DRYS, but actually applying it fails.\n",
      "\u001b[0mcore.chemical: \u001b[0m\u001b[1m[ WARNING ]\u001b[0m    You may want to check your patch definitions.\n",
      "\u001b[0mcore.chemical: \u001b[0m\u001b[1m[ WARNING ]\u001b[0m Patch MethylatedCtermProteinFull implies it can apply to residue type RYS, but actually applying it fails.\n",
      "\u001b[0mcore.chemical: \u001b[0m\u001b[1m[ WARNING ]\u001b[0m    You may want to check your patch definitions.\n",
      "\u001b[0mcore.chemical: \u001b[0m\u001b[1m[ WARNING ]\u001b[0m Patch MethylatedCtermProteinFull implies it can apply to residue type DRYS, but actually applying it fails.\n",
      "\u001b[0mcore.chemical: \u001b[0m\u001b[1m[ WARNING ]\u001b[0m    You may want to check your patch definitions.\n",
      "\u001b[0mcore.chemical: \u001b[0m\u001b[1m[ WARNING ]\u001b[0m Patch MethylatedCtermProteinFull implies it can apply to residue type DRYS, but actually applying it fails.\n",
      "\u001b[0mcore.chemical: \u001b[0m\u001b[1m[ WARNING ]\u001b[0m    You may want to check your patch definitions.\n",
      "\u001b[0mcore.chemical: \u001b[0m\u001b[1m[ WARNING ]\u001b[0m Patch AcetylatedNtermProteinFull implies it can apply to residue type RYS, but actually applying it fails.\n",
      "\u001b[0mcore.chemical: \u001b[0m\u001b[1m[ WARNING ]\u001b[0m    You may want to check your patch definitions.\n",
      "\u001b[0mcore.chemical: \u001b[0m\u001b[1m[ WARNING ]\u001b[0m Patch AcetylatedNtermProteinFull implies it can apply to residue type DRYS, but actually applying it fails.\n",
      "\u001b[0mcore.chemical: \u001b[0m\u001b[1m[ WARNING ]\u001b[0m    You may want to check your patch definitions.\n",
      "\u001b[0mcore.chemical: \u001b[0m\u001b[1m[ WARNING ]\u001b[0m Patch AcetylatedNtermProteinFull implies it can apply to residue type DRYS, but actually applying it fails.\n",
      "\u001b[0mcore.chemical: \u001b[0m\u001b[1m[ WARNING ]\u001b[0m    You may want to check your patch definitions.\n"
     ]
    }
   ],
   "source": [
    "pose = pose_from_pdb(\"./testing_new_rosetta_compile/pR_9.pdb\")\n",
    "ntrials = 100\n",
    "simname = \"MC_pR9\""
   ]
  },
  {
   "cell_type": "code",
   "execution_count": 20,
   "metadata": {},
   "outputs": [
    {
     "name": "stdout",
     "output_type": "stream",
     "text": [
      "~~~~~~~~~~~~~~~~~~~~~~~~~~~~~~~~~~~~~~~~~~~~~~\n",
      "initial was lowest scoring: 1033.23528195\n"
     ]
    },
    {
     "data": {
      "image/png": "[encoded data removed]",
      "text/plain": [
       "<Figure size 432x288 with 1 Axes>"
      ]
     },
     "metadata": {},
     "output_type": "display_data"
    }
   ],
   "source": [
    "score, fin_pose, low_pose = MonteCarlo(pose,ntrials,simname,False)"
   ]
  },
  {
   "cell_type": "code",
   "execution_count": 21,
   "metadata": {},
   "outputs": [
    {
     "name": "stdout",
     "output_type": "stream",
     "text": [
      "1033.23528195\n"
     ]
    }
   ],
   "source": [
    "print score.min()\n",
    "# print score"
   ]
  },
  {
   "cell_type": "code",
   "execution_count": 22,
   "metadata": {},
   "outputs": [
    {
     "name": "stdout",
     "output_type": "stream",
     "text": [
      "PDB file name: ./testing_new_rosetta_compile/pR_9.pdb\n",
      "Total residues:235\n",
      "Sequence: MGGGDLDASDYTGVSFWLVTAALLASTVFFFVERDRVSAKWKTSLTVSGLVTGIAFWHYMYMRGVWIETGDSPTVFRYIDWLLTVPLLICEFYLILAAATNVAGSLFKKLLVGSLVMLVFGYMGEAGIMAAWPAFIIGCLAWVYMIYELWAGEGKSACNTASPAVQSAYNTMMYIIIFGWAIYPVGYFTGYLMGDGGSALNLNLIYNLADFVNXILFGLIIWNVAVKESSNAPGG\n",
      "Fold tree:\n",
      "FOLD_TREE  EDGE 1 235 -1 \n",
      "102534.810431\n"
     ]
    }
   ],
   "source": [
    "print fin_pose\n",
    "print sfxn(fin_pose)"
   ]
  },
  {
   "cell_type": "code",
   "execution_count": 23,
   "metadata": {},
   "outputs": [
    {
     "name": "stdout",
     "output_type": "stream",
     "text": [
      "PDB file name: ./testing_new_rosetta_compile/pR_9.pdb\n",
      "Total residues:235\n",
      "Sequence: MGGGDLDASDYTGVSFWLVTAALLASTVFFFVERDRVSAKWKTSLTVSGLVTGIAFWHYMYMRGVWIETGDSPTVFRYIDWLLTVPLLICEFYLILAAATNVAGSLFKKLLVGSLVMLVFGYMGEAGIMAAWPAFIIGCLAWVYMIYELWAGEGKSACNTASPAVQSAYNTMMYIIIFGWAIYPVGYFTGYLMGDGGSALNLNLIYNLADFVNXILFGLIIWNVAVKESSNAPGG\n",
      "Fold tree:\n",
      "FOLD_TREE  EDGE 1 235 -1 \n",
      "1033.23528195\n"
     ]
    }
   ],
   "source": [
    "print low_pose\n",
    "print sfxn(low_pose)"
   ]
  }
 ],
 "metadata": {
  "kernelspec": {
   "display_name": "Python 2",
   "language": "python",
   "name": "python2"
  },
  "language_info": {
   "codemirror_mode": {
    "name": "ipython",
    "version": 2
   },
   "file_extension": ".py",
   "mimetype": "text/x-python",
   "name": "python",
   "nbconvert_exporter": "python",
   "pygments_lexer": "ipython2",
   "version": "2.7.15rc1"
  }
 },
 "nbformat": 4,
 "nbformat_minor": 2
}
