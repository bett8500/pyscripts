{
 "cells": [
  {
   "cell_type": "markdown",
   "metadata": {},
   "source": [
    "## Workshop #2: PyRosetta"
   ]
  },
  {
   "cell_type": "code",
   "execution_count": null,
   "metadata": {
    "scrolled": true
   },
   "outputs": [],
   "source": [
    "import os\n",
    "from pyrosetta import *\n",
    "from pyrosetta.toolbox import pose_from_rcsb\n",
    "init()\n",
    "\n"
   ]
  },
  {
   "cell_type": "code",
   "execution_count": null,
   "metadata": {},
   "outputs": [],
   "source": [
    "#defining connection to laptop for PyMOL\n",
    "my_ip = os.environ[\"my_ip\"]\n",
    "#obtaining a protein structure from the pdb\n",
    "pose = pose_from_rcsb(\"1YY8\")\n",
    "#obtaining information about the protein\n",
    "print \"pose:\", pose\n",
    "print \"sequence:\", pose.sequence()\n",
    "print \"protein has\", pose.total_residue(), \"residues.\"\n",
    "print \"residue 500:\", pose.residue(500).name()\n",
    "print \"chain\", pose.pdb_info().chain(500), \"number\", pose.pdb_info().number(500)\n",
    "print \"internal number resi 100, chain A:\", pose.pdb_info().pdb2pose('A', 100)"
   ]
  },
  {
   "cell_type": "code",
   "execution_count": null,
   "metadata": {},
   "outputs": [],
   "source": [
    "#Visualizing Protein via PyMOL\n",
    "from pyrosetta import PyMOLMover\n",
    "pymol = PyMOLMover(my_ip, 65000)\n",
    "pymol.apply(pose)\n",
    "#Secondary Structure, Angles, and Bond Lengths\n",
    "from pyrosetta.toolbox import get_secstruct\n",
    "print \"secondary structure:\"\n",
    "get_secstruct(pose)\n",
    "print \"phi(5):\", pose.phi(5)\n",
    "print \"psi(5):\", pose.psi(5)\n",
    "print \"chi(1,5):\", pose.chi(1, 5)\n",
    "R5N = AtomID(1, 5)\n",
    "R5CA = AtomID(2, 5)\n",
    "R5C = AtomID(3, 5)\n",
    "print \"N-CA bond length:\", pose.conformation().bond_length(R5N, R5CA)\n",
    "print \"CA-C bond length:\", pose.conformation().bond_length(R5CA, R5C)\n",
    "print \"N-CA-C bond angle:\", pose.conformation().bond_angle(R5N, R5CA, R5C)\n",
    "\n"
   ]
  },
  {
   "cell_type": "code",
   "execution_count": null,
   "metadata": {},
   "outputs": [],
   "source": [
    "#Manipulating Protein Geometry and PyMOL Visualization\n",
    "pose.set_phi(5, -60)\n",
    "pose.set_psi(5, -43)\n",
    "pose.set_chi(1, 5, 180)\n",
    "pose.conformation().set_bond_length(R5N, R5CA, 1.5)\n",
    "pose.conformation().set_bond_angle(R5N, R5CA, R5C,\n",
    "110./180.*3.14159)\n",
    "#Applying Changes in PyMOL\n",
    "pymol.apply(pose)"
   ]
  },
  {
   "cell_type": "code",
   "execution_count": null,
   "metadata": {},
   "outputs": [],
   "source": [
    "N_xyz = pose.residue(5).xyz(\"N\")\n",
    "CA_xyz = pose.residue(5).xyz(\"CA\")\n",
    "N_CA_vector = CA_xyz-N_xyz\n",
    "print N_CA_vector.norm\n",
    "print N_CA_vector\n",
    "N_CA_vector_norm = ((0.5761217501096674**2)+(0.4695084725093004**2)+(1.302937267596777**2))**0.5\n",
    "print \"N-CA bond length:\", N_CA_vector_norm\n",
    "N_CA_C_ba = pose.conformation().bond_angle(R5N, R5CA, R5C)\n",
    "print \"N-CA-C bond angle:\", N_CA_C_ba\n",
    "N_CA_C_ba_deg = N_CA_C_ba*(180/3.14159265359)\n",
    "print N_CA_C_ba_deg\n",
    "print \"N\", N_xyz\n",
    "print \"CA\", CA_xyz\n"
   ]
  },
  {
   "cell_type": "markdown",
   "metadata": {},
   "source": [
    "Programming Exercise 1: Torsion Angle...Use the vector objects to write a script to calculate torsion angles between four arbitrary atoms. This will require knowledge of vector calculus. Hint: You will need to calculate the normal vectors of the two planes of the dihedral angle.\n"
   ]
  },
  {
   "cell_type": "markdown",
   "metadata": {},
   "source": [
    "Ideal helix. Write a program to create a 20-residue ideal helix by setting the φ and ψ\n",
    "angles to the typical values for an α-helix. To start, use pose =\n",
    "pose_from_sequence(\"AAA\", \"fa_standard\") to create a new pose, except\n",
    "using 20 “A”s in the argument to create a 20-residue polyalanine.\n",
    "Output your structure using pose.dump_pdb(\"helix.pdb\")."
   ]
  },
  {
   "cell_type": "code",
   "execution_count": null,
   "metadata": {},
   "outputs": [],
   "source": [
    "#create a 20-alanine peptide sequence\n",
    "pose = pose_from_sequence(\"A\"*20, \"fa_standard\")\n",
    "#set all torsion angles to typical alpha helix angles\n",
    "for x in xrange(1, 20):\n",
    "    pose.set_phi(x, -60)\n",
    "    pose.set_psi(x, -60)\n",
    "#save file\n",
    "pose.dump_pdb(\"helix.pdb\")\n",
    "#show in PyMOL\n",
    "pymol.apply(pose)"
   ]
  },
  {
   "cell_type": "markdown",
   "metadata": {},
   "source": [
    "Ideal strand. Write a program to create a 20-residue ideal β-strand by setting the φ and\n",
    "ψ angles to values in the middle of the β region of the Ramachandran plot."
   ]
  },
  {
   "cell_type": "code",
   "execution_count": null,
   "metadata": {},
   "outputs": [],
   "source": [
    "#create a 20-alanine peptide sequence\n",
    "pose = pose_from_sequence(\"A\"*20, \"fa_standard\")\n",
    "#set all torsion angles to typical alpha helix angles\n",
    "for x in xrange(1, 20):\n",
    "    pose.set_phi(x, -140)\n",
    "    pose.set_psi(x, 130)\n",
    "#save file\n",
    "pose.dump_pdb(\"B_strand.pdb\")\n",
    "#show in PyMOL\n",
    "pymol.apply(pose)"
   ]
  },
  {
   "cell_type": "markdown",
   "metadata": {},
   "source": [
    "#### Scondary structure propensities. \n",
    "Write a program to calculate the propensity of each\n",
    "residue type to appear in a helix. Loop through all residues in a protein, and count each\n",
    "alanine that is in a helix, sheet, or loop according to some φ/ψ-based criteria. The\n",
    "propensity can then be calculated as....\n",
    "where Nα Ala, Nβ Ala, and NL Ala, are the counts of alanine residues in helices, sheets, and\n",
    "loops, respectively, and Nα total, Nβ total, and NL total, are the counts of all residues in\n",
    "helices, sheets, and loops, respectively. (Note that terminal residues have different\n",
    "names in Rosetta than internal ones; e.g., an N-terminal ALA has the name\n",
    "ALA_p:NtermProteinFull.)"
   ]
  },
  {
   "cell_type": "code",
   "execution_count": null,
   "metadata": {},
   "outputs": [],
   "source": [
    "pose = pose_from_sequence(\"GALMFWKQESPICYHRNDT\", \"fa_standard\")\n",
    "for x in xrange(1, 20):\n",
    "    print pose.phi(x)\n",
    "    print pose.psi(x)\n",
    "#I'm having difficulty figuring this one out"
   ]
  },
  {
   "cell_type": "markdown",
   "metadata": {},
   "source": [
    "Idealize a protein. Write a program that sets all bond lengths and angles to their Engh\n",
    "& Huber ideal values. Test your program using a structure from the pdb. What happens\n",
    "to the resulting protein? Why?"
   ]
  },
  {
   "cell_type": "code",
   "execution_count": null,
   "metadata": {
    "scrolled": false
   },
   "outputs": [],
   "source": [
    "pose = pose_from_rcsb(\"1YY8\")\n",
    "\n",
    "for x in xrange(1, 20):\n",
    "    N = AtomID(1, x)\n",
    "    Ca = AtomID(2, x)\n",
    "    C = AtomID(3, x)\n",
    "    Cb = AtomID(5, x)\n",
    "    Cg = AtomID(6, x)\n",
    "    pose.conformation().set_bond_angle(N, Ca, C,\n",
    "    110./180.*3.14159)\n",
    "    pose.conformation().set_bond_angle(N, Ca, Cb,\n",
    "    112./180.*3.14159)\n",
    "    pose.conformation().set_bond_angle(Cb, Ca, C,\n",
    "    110./180.*3.14159)\n",
    "#     pose.conformation().set_bond_length(Ca, Cb, 5)\n",
    "#     pose.conformation().set_bond_length(Cb, Cg, 5)\n",
    "pymol.apply(pose)\n",
    "   \n",
    "    "
   ]
  },
  {
   "cell_type": "code",
   "execution_count": null,
   "metadata": {},
   "outputs": [],
   "source": []
  }
 ],
 "metadata": {
  "kernelspec": {
   "display_name": "Python 2",
   "language": "python",
   "name": "python2"
  },
  "language_info": {
   "codemirror_mode": {
    "name": "ipython",
    "version": 2
   },
   "file_extension": ".py",
   "mimetype": "text/x-python",
   "name": "python",
   "nbconvert_exporter": "python",
   "pygments_lexer": "ipython2",
   "version": "2.7.12"
  }
 },
 "nbformat": 4,
 "nbformat_minor": 2
}
